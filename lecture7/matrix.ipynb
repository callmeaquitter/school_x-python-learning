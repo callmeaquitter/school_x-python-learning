{
 "cells": [
  {
   "cell_type": "code",
   "execution_count": null,
   "metadata": {},
   "outputs": [],
   "source": [
    "class Matrix:\n",
    "    def __init__(\n",
    "        self, \n",
    "        matrix1 = [\n",
    "        [1, 1, 1],\n",
    "        [1, 2, 3],\n",
    "        [11, 12, 12],\n",
    "        [2, 1, 45]\n",
    "        ],\n",
    "        matrix2 = [\n",
    "        [4, 5, 6],\n",
    "        [7, 8, 9],\n",
    "        [77, 12, 12],\n",
    "        [2, 1, 45]\n",
    "        ]\n",
    "    ):\n",
    "        result = []\n",
    "        self.matrix1 = matrix1\n",
    "        self.matrix2 = matrix2\n",
    "\n",
    "\n",
    "     def __add__(self, matrix1: int, matrix2: int) -> 'Matrix':\n",
    "        for i in range(len(matrix1)):\n",
    "            for j in range(len(matrix1[0])):\n",
    "                result[i][j] = matrix1[i][j] + matrix2[i][j]\n"
   ]
  }
 ],
 "metadata": {
  "language_info": {
   "name": "python"
  },
  "orig_nbformat": 4
 },
 "nbformat": 4,
 "nbformat_minor": 2
}
