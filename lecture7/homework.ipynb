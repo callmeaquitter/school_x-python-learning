{
 "cells": [
  {
   "cell_type": "code",
   "execution_count": 20,
   "metadata": {},
   "outputs": [],
   "source": [
    "class Matrix:\n",
    "    def __init__(self, matrix):\n",
    "        self.matrix = matrix\n",
    "\n",
    "    def __add__(self, other):\n",
    "        result = []\n",
    "        for i in range(len(self.matrix)):\n",
    "            row = []\n",
    "            for j in range(len(self.matrix[0])):\n",
    "                row.append(self.matrix[i][j] + other)\n",
    "            result.append(row)\n",
    "        return Matrix(result)\n",
    "    \n",
    "    def T(self):\n",
    "        result = []\n",
    "        for j in range(len(self.matrix[0])):\n",
    "            row = []\n",
    "            for i in range(len(self.matrix)):\n",
    "                row.append(self.matrix[i][j])\n",
    "            result.append(row)\n",
    "        return Matrix(result)\n",
    "\n",
    "    def __sub__(self, other):\n",
    "        result = []\n",
    "        for i in range(len(self.matrix)):\n",
    "            row = []\n",
    "            for j in range(len(self.matrix[0])):\n",
    "                row.append(self.matrix[i][j] - other)\n",
    "            result.append(row)\n",
    "        return Matrix(result)\n",
    "\n",
    "\n",
    "    def __truediv__(self, other):\n",
    "        if isinstance(other, (int, float)):\n",
    "            result = []\n",
    "            for i in range(len(self.matrix)):\n",
    "                row = []\n",
    "                for j in range(len(self.matrix[0])):\n",
    "                    row.append(self.matrix[i][j] / other)\n",
    "                result.append(row)\n",
    "            return Matrix(result)\n",
    "\n",
    "    def __mul__(self, other):\n",
    "        result = []\n",
    "        for i in range(len(self.matrix)):\n",
    "            row = []\n",
    "            for j in range(len(other)):\n",
    "                sum = 0\n",
    "                for k in range(len(other)):\n",
    "                    sum += self.matrix[i][k] * other\n",
    "                row.append(sum)\n",
    "            result.append(row)\n",
    "        return Matrix(result)\n",
    "    \n",
    "    def __matmul__(self, other):\n",
    "        result_matrix = []\n",
    "        for i in range(len(self.matrix)):\n",
    "            row = []\n",
    "            for j in range(len(other)):\n",
    "                val = 0\n",
    "                for k in range(len(other)):\n",
    "                    val += self.matrix[i][k] * other\n",
    "                row.append(val)\n",
    "            result_matrix.append(row)\n",
    "        return (result_matrix)"
   ]
  },
  {
   "cell_type": "code",
   "execution_count": 21,
   "metadata": {},
   "outputs": [
    {
     "data": {
      "text/plain": [
       "[[1, 2, 3], [1, 2, 3]]"
      ]
     },
     "execution_count": 21,
     "metadata": {},
     "output_type": "execute_result"
    }
   ],
   "source": [
    "class Test:\n",
    "    array = [[1, 2, 3], [1, 2, 3]]\n",
    "    \n",
    "    def __repr__(self):\n",
    "        return str(self.array)\n",
    "    \n",
    "t = Test()\n",
    "t"
   ]
  },
  {
   "cell_type": "code",
   "execution_count": 22,
   "metadata": {},
   "outputs": [
    {
     "ename": "TypeError",
     "evalue": "object of type 'Matrix' has no len()",
     "output_type": "error",
     "traceback": [
      "\u001b[1;31m---------------------------------------------------------------------------\u001b[0m",
      "\u001b[1;31mTypeError\u001b[0m                                 Traceback (most recent call last)",
      "\u001b[1;32md:\\Документики\\intensive\\lecture7\\homework.ipynb Cell 3\u001b[0m line \u001b[0;36m1\n\u001b[0;32m     <a href='vscode-notebook-cell:/d%3A/%D0%94%D0%BE%D0%BA%D1%83%D0%BC%D0%B5%D0%BD%D1%82%D0%B8%D0%BA%D0%B8/intensive/lecture7/homework.ipynb#W2sZmlsZQ%3D%3D?line=11'>12</a>\u001b[0m ts_matrix1 \u001b[39m=\u001b[39m np\u001b[39m.\u001b[39marray(array1)\n\u001b[0;32m     <a href='vscode-notebook-cell:/d%3A/%D0%94%D0%BE%D0%BA%D1%83%D0%BC%D0%B5%D0%BD%D1%82%D0%B8%D0%BA%D0%B8/intensive/lecture7/homework.ipynb#W2sZmlsZQ%3D%3D?line=12'>13</a>\u001b[0m ts_matrix2 \u001b[39m=\u001b[39m np\u001b[39m.\u001b[39marray(array2)\n\u001b[1;32m---> <a href='vscode-notebook-cell:/d%3A/%D0%94%D0%BE%D0%BA%D1%83%D0%BC%D0%B5%D0%BD%D1%82%D0%B8%D0%BA%D0%B8/intensive/lecture7/homework.ipynb#W2sZmlsZQ%3D%3D?line=15'>16</a>\u001b[0m \u001b[39mprint\u001b[39m((ft_matrix1 \u001b[39m@\u001b[39;49m sc_matrix2) \u001b[39m==\u001b[39m (ts_matrix1 \u001b[39m@\u001b[39m ts_matrix2))\n\u001b[0;32m     <a href='vscode-notebook-cell:/d%3A/%D0%94%D0%BE%D0%BA%D1%83%D0%BC%D0%B5%D0%BD%D1%82%D0%B8%D0%BA%D0%B8/intensive/lecture7/homework.ipynb#W2sZmlsZQ%3D%3D?line=17'>18</a>\u001b[0m \u001b[39mprint\u001b[39m(ft_matrix1 \u001b[39m@\u001b[39m sc_matrix2)\n\u001b[0;32m     <a href='vscode-notebook-cell:/d%3A/%D0%94%D0%BE%D0%BA%D1%83%D0%BC%D0%B5%D0%BD%D1%82%D0%B8%D0%BA%D0%B8/intensive/lecture7/homework.ipynb#W2sZmlsZQ%3D%3D?line=18'>19</a>\u001b[0m \u001b[39mprint\u001b[39m(ts_matrix1 \u001b[39m@\u001b[39m ts_matrix2)\n",
      "\u001b[1;32md:\\Документики\\intensive\\lecture7\\homework.ipynb Cell 3\u001b[0m line \u001b[0;36m5\n\u001b[0;32m     <a href='vscode-notebook-cell:/d%3A/%D0%94%D0%BE%D0%BA%D1%83%D0%BC%D0%B5%D0%BD%D1%82%D0%B8%D0%BA%D0%B8/intensive/lecture7/homework.ipynb#W2sZmlsZQ%3D%3D?line=56'>57</a>\u001b[0m \u001b[39mfor\u001b[39;00m i \u001b[39min\u001b[39;00m \u001b[39mrange\u001b[39m(\u001b[39mlen\u001b[39m(\u001b[39mself\u001b[39m\u001b[39m.\u001b[39mmatrix)):\n\u001b[0;32m     <a href='vscode-notebook-cell:/d%3A/%D0%94%D0%BE%D0%BA%D1%83%D0%BC%D0%B5%D0%BD%D1%82%D0%B8%D0%BA%D0%B8/intensive/lecture7/homework.ipynb#W2sZmlsZQ%3D%3D?line=57'>58</a>\u001b[0m     row \u001b[39m=\u001b[39m []\n\u001b[1;32m---> <a href='vscode-notebook-cell:/d%3A/%D0%94%D0%BE%D0%BA%D1%83%D0%BC%D0%B5%D0%BD%D1%82%D0%B8%D0%BA%D0%B8/intensive/lecture7/homework.ipynb#W2sZmlsZQ%3D%3D?line=58'>59</a>\u001b[0m     \u001b[39mfor\u001b[39;00m j \u001b[39min\u001b[39;00m \u001b[39mrange\u001b[39m(\u001b[39mlen\u001b[39;49m(other)):\n\u001b[0;32m     <a href='vscode-notebook-cell:/d%3A/%D0%94%D0%BE%D0%BA%D1%83%D0%BC%D0%B5%D0%BD%D1%82%D0%B8%D0%BA%D0%B8/intensive/lecture7/homework.ipynb#W2sZmlsZQ%3D%3D?line=59'>60</a>\u001b[0m         val \u001b[39m=\u001b[39m \u001b[39m0\u001b[39m\n\u001b[0;32m     <a href='vscode-notebook-cell:/d%3A/%D0%94%D0%BE%D0%BA%D1%83%D0%BC%D0%B5%D0%BD%D1%82%D0%B8%D0%BA%D0%B8/intensive/lecture7/homework.ipynb#W2sZmlsZQ%3D%3D?line=60'>61</a>\u001b[0m         \u001b[39mfor\u001b[39;00m k \u001b[39min\u001b[39;00m \u001b[39mrange\u001b[39m(\u001b[39mlen\u001b[39m(other)):\n",
      "\u001b[1;31mTypeError\u001b[0m: object of type 'Matrix' has no len()"
     ]
    }
   ],
   "source": [
    "array1 = [[1, 2, 3],\n",
    "          [4, 5, 6],\n",
    "          [7, 8, 9]]\n",
    "\n",
    "array2 = [[3, 9, 2],\n",
    "          [3, 3, 4],\n",
    "          [8, 2, 2]]\n",
    "\n",
    "ft_matrix1 = Matrix(array1)\n",
    "sc_matrix2 = Matrix(array2)\n",
    "\n",
    "ts_matrix1 = np.array(array1)\n",
    "ts_matrix2 = np.array(array2)\n",
    "\n",
    "\n",
    "print((ft_matrix1 @ sc_matrix2) == (ts_matrix1 @ ts_matrix2))\n",
    "\n",
    "print(ft_matrix1 @ sc_matrix2)\n",
    "print(ts_matrix1 @ ts_matrix2)\n",
    "\n"
   ]
  },
  {
   "cell_type": "code",
   "execution_count": 2,
   "metadata": {},
   "outputs": [
    {
     "name": "stdout",
     "output_type": "stream",
     "text": [
      "[[19, 22], [55, 64]]\n",
      "<__main__.Matrix object at 0x0000017992D864F0>\n",
      "<__main__.Matrix object at 0x0000017992901FA0>\n",
      "<__main__.Matrix object at 0x0000017992D864F0>\n",
      "<__main__.Matrix object at 0x0000017992901FA0>\n"
     ]
    }
   ],
   "source": [
    "# matrix1 = [\n",
    "#     [1, 2],\n",
    "#     [4, 5]\n",
    "#     ]\n",
    "# matrix2 = [\n",
    "#     [5, 6],\n",
    "#     [7, 8]\n",
    "#     ]\n",
    "\n",
    "# my_matrix1 = Matrix(matrix1)\n",
    "# my_matrix2 = Matrix(matrix2)\n",
    "\n",
    "# print(my_matrix1 @ my_matrix2)\n",
    "\n",
    "# print(my_matrix1 + my_matrix2)\n",
    "\n",
    "# print(my_matrix1 * my_matrix2)\n",
    "\n",
    "# print(my_matrix1 / 2)\n",
    "\n",
    "# print(my_matrix1.T())"
   ]
  },
  {
   "cell_type": "code",
   "execution_count": 7,
   "metadata": {},
   "outputs": [
    {
     "name": "stdout",
     "output_type": "stream",
     "text": [
      "Note: you may need to restart the kernel to use updated packages.\n"
     ]
    },
    {
     "name": "stderr",
     "output_type": "stream",
     "text": [
      "WARNING: You are using pip version 21.2.3; however, version 23.2.1 is available.\n",
      "You should consider upgrading via the 'c:\\Program Files (x86)\\Microsoft Visual Studio\\Shared\\Python39_64\\python.exe -m pip install --upgrade pip' command.\n"
     ]
    },
    {
     "name": "stdout",
     "output_type": "stream",
     "text": [
      "Note: you may need to restart the kernel to use updated packages.\n"
     ]
    },
    {
     "name": "stderr",
     "output_type": "stream",
     "text": [
      "WARNING: You are using pip version 21.2.3; however, version 23.2.1 is available.\n",
      "You should consider upgrading via the 'c:\\Program Files (x86)\\Microsoft Visual Studio\\Shared\\Python39_64\\python.exe -m pip install --upgrade pip' command.\n"
     ]
    }
   ],
   "source": [
    "%pip install -Uq numpy\n",
    "\n",
    "import numpy as np\n",
    "\n",
    "%pip install -q ipytest pytest\n",
    "\n",
    "import ipytest\n",
    "import pytest\n",
    "ipytest.autoconfig()"
   ]
  },
  {
   "cell_type": "code",
   "execution_count": 18,
   "metadata": {},
   "outputs": [
    {
     "ename": "TypeError",
     "evalue": "unsupported operand type(s) for |: 'type' and 'type'",
     "output_type": "error",
     "traceback": [
      "\u001b[1;31m---------------------------------------------------------------------------\u001b[0m",
      "\u001b[1;31mTypeError\u001b[0m                                 Traceback (most recent call last)",
      "\u001b[1;32md:\\Документики\\intensive\\lecture7\\homework.ipynb Cell 6\u001b[0m line \u001b[0;36m1\n\u001b[0;32m     <a href='vscode-notebook-cell:/d%3A/%D0%94%D0%BE%D0%BA%D1%83%D0%BC%D0%B5%D0%BD%D1%82%D0%B8%D0%BA%D0%B8/intensive/lecture7/homework.ipynb#W5sZmlsZQ%3D%3D?line=9'>10</a>\u001b[0m \u001b[39m@pytest\u001b[39m\u001b[39m.\u001b[39mmark\u001b[39m.\u001b[39mparametrize(\u001b[39m\"\u001b[39m\u001b[39mmatrix1,matrix2\u001b[39m\u001b[39m\"\u001b[39m, [[matrix1, matrix2]])\n\u001b[0;32m     <a href='vscode-notebook-cell:/d%3A/%D0%94%D0%BE%D0%BA%D1%83%D0%BC%D0%B5%D0%BD%D1%82%D0%B8%D0%BA%D0%B8/intensive/lecture7/homework.ipynb#W5sZmlsZQ%3D%3D?line=10'>11</a>\u001b[0m \u001b[39mdef\u001b[39;00m \u001b[39mtest_matrix_add_matrix\u001b[39m(matrix1: Matrix, matrix2: Matrix):\n\u001b[0;32m     <a href='vscode-notebook-cell:/d%3A/%D0%94%D0%BE%D0%BA%D1%83%D0%BC%D0%B5%D0%BD%D1%82%D0%B8%D0%BA%D0%B8/intensive/lecture7/homework.ipynb#W5sZmlsZQ%3D%3D?line=11'>12</a>\u001b[0m     \u001b[39massert\u001b[39;00m (\n\u001b[0;32m     <a href='vscode-notebook-cell:/d%3A/%D0%94%D0%BE%D0%BA%D1%83%D0%BC%D0%B5%D0%BD%D1%82%D0%B8%D0%BA%D0%B8/intensive/lecture7/homework.ipynb#W5sZmlsZQ%3D%3D?line=12'>13</a>\u001b[0m         (matrix1 \u001b[39m+\u001b[39m matrix2 \u001b[39m==\u001b[39m (np\u001b[39m.\u001b[39marray(matrix1\u001b[39m.\u001b[39mmatrix) \u001b[39m+\u001b[39m np\u001b[39m.\u001b[39marray(matrix2\u001b[39m.\u001b[39mmatrix)))\u001b[39m.\u001b[39mall()\n\u001b[0;32m     <a href='vscode-notebook-cell:/d%3A/%D0%94%D0%BE%D0%BA%D1%83%D0%BC%D0%B5%D0%BD%D1%82%D0%B8%D0%BA%D0%B8/intensive/lecture7/homework.ipynb#W5sZmlsZQ%3D%3D?line=13'>14</a>\u001b[0m     ), \u001b[39m'\u001b[39m\u001b[39madd section with matrices is not working right\u001b[39m\u001b[39m'\u001b[39m\n\u001b[0;32m     <a href='vscode-notebook-cell:/d%3A/%D0%94%D0%BE%D0%BA%D1%83%D0%BC%D0%B5%D0%BD%D1%82%D0%B8%D0%BA%D0%B8/intensive/lecture7/homework.ipynb#W5sZmlsZQ%3D%3D?line=15'>16</a>\u001b[0m \u001b[39m@pytest\u001b[39m\u001b[39m.\u001b[39mmark\u001b[39m.\u001b[39mparametrize(\u001b[39m\"\u001b[39m\u001b[39mmatrix1,number\u001b[39m\u001b[39m\"\u001b[39m, [[matrix1, \u001b[39m13.2\u001b[39m]])\n\u001b[1;32m---> <a href='vscode-notebook-cell:/d%3A/%D0%94%D0%BE%D0%BA%D1%83%D0%BC%D0%B5%D0%BD%D1%82%D0%B8%D0%BA%D0%B8/intensive/lecture7/homework.ipynb#W5sZmlsZQ%3D%3D?line=16'>17</a>\u001b[0m \u001b[39mdef\u001b[39;00m \u001b[39mtest_matrix_add_number\u001b[39m(matrix1: Matrix, number: \u001b[39mint\u001b[39;49m \u001b[39m|\u001b[39;49m \u001b[39mfloat\u001b[39;49m):\n\u001b[0;32m     <a href='vscode-notebook-cell:/d%3A/%D0%94%D0%BE%D0%BA%D1%83%D0%BC%D0%B5%D0%BD%D1%82%D0%B8%D0%BA%D0%B8/intensive/lecture7/homework.ipynb#W5sZmlsZQ%3D%3D?line=17'>18</a>\u001b[0m     \u001b[39massert\u001b[39;00m (\n\u001b[0;32m     <a href='vscode-notebook-cell:/d%3A/%D0%94%D0%BE%D0%BA%D1%83%D0%BC%D0%B5%D0%BD%D1%82%D0%B8%D0%BA%D0%B8/intensive/lecture7/homework.ipynb#W5sZmlsZQ%3D%3D?line=18'>19</a>\u001b[0m         (matrix1 \u001b[39m+\u001b[39m number \u001b[39m==\u001b[39m np\u001b[39m.\u001b[39marray(matrix1\u001b[39m.\u001b[39mmatrix) \u001b[39m+\u001b[39m number)\u001b[39m.\u001b[39mall()\n\u001b[0;32m     <a href='vscode-notebook-cell:/d%3A/%D0%94%D0%BE%D0%BA%D1%83%D0%BC%D0%B5%D0%BD%D1%82%D0%B8%D0%BA%D0%B8/intensive/lecture7/homework.ipynb#W5sZmlsZQ%3D%3D?line=19'>20</a>\u001b[0m     ), \u001b[39m'\u001b[39m\u001b[39madd section with matrix and number is not working right\u001b[39m\u001b[39m'\u001b[39m\n\u001b[0;32m     <a href='vscode-notebook-cell:/d%3A/%D0%94%D0%BE%D0%BA%D1%83%D0%BC%D0%B5%D0%BD%D1%82%D0%B8%D0%BA%D0%B8/intensive/lecture7/homework.ipynb#W5sZmlsZQ%3D%3D?line=21'>22</a>\u001b[0m \u001b[39m@pytest\u001b[39m\u001b[39m.\u001b[39mmark\u001b[39m.\u001b[39mparametrize(\u001b[39m\"\u001b[39m\u001b[39mmatrix1,matrix2\u001b[39m\u001b[39m\"\u001b[39m, [[matrix1, matrix2]])\n\u001b[0;32m     <a href='vscode-notebook-cell:/d%3A/%D0%94%D0%BE%D0%BA%D1%83%D0%BC%D0%B5%D0%BD%D1%82%D0%B8%D0%BA%D0%B8/intensive/lecture7/homework.ipynb#W5sZmlsZQ%3D%3D?line=22'>23</a>\u001b[0m \u001b[39mdef\u001b[39;00m \u001b[39mtest_matrix_sub_matrix\u001b[39m(matrix1: Matrix, matrix2: Matrix):\n",
      "\u001b[1;31mTypeError\u001b[0m: unsupported operand type(s) for |: 'type' and 'type'"
     ]
    },
    {
     "name": "stdout",
     "output_type": "stream",
     "text": [
      "\u001b[31mF\u001b[0m\u001b[31m                                                                                            [100%]\u001b[0m\n",
      "============================================ FAILURES =============================================\n",
      "\u001b[31m\u001b[1m____________________________ test_matrix_add_matrix[matrix10-matrix20] ____________________________\u001b[0m\n",
      "\n",
      "matrix1 = <__main__.Matrix object at 0x000001D0FFDCE550>\n",
      "matrix2 = <__main__.Matrix object at 0x000001D0FFDCEB80>\n",
      "\n",
      "    \u001b[37m@pytest\u001b[39;49;00m.mark.parametrize(\u001b[33m\"\u001b[39;49;00m\u001b[33mmatrix1,matrix2\u001b[39;49;00m\u001b[33m\"\u001b[39;49;00m, [[matrix1, matrix2]])\u001b[90m\u001b[39;49;00m\n",
      "    \u001b[94mdef\u001b[39;49;00m \u001b[92mtest_matrix_add_matrix\u001b[39;49;00m(matrix1: Matrix, matrix2: Matrix):\u001b[90m\u001b[39;49;00m\n",
      ">       \u001b[94massert\u001b[39;49;00m (\u001b[90m\u001b[39;49;00m\n",
      "            (matrix1 + matrix2 == (np.array(matrix1.matrix) + np.array(matrix2.matrix))).all()\u001b[90m\u001b[39;49;00m\n",
      "        ), \u001b[33m'\u001b[39;49;00m\u001b[33madd section with matrices is not working right\u001b[39;49;00m\u001b[33m'\u001b[39;49;00m\u001b[90m\u001b[39;49;00m\n",
      "\n",
      "\u001b[1m\u001b[31mC:\\Users\\User\\AppData\\Local\\Temp\\ipykernel_19608\\246116495.py\u001b[0m:12: \n",
      "_ _ _ _ _ _ _ _ _ _ _ _ _ _ _ _ _ _ _ _ _ _ _ _ _ _ _ _ _ _ _ _ _ _ _ _ _ _ _ _ _ _ _ _ _ _ _ _ _ _\n",
      "\n",
      "self = <__main__.Matrix object at 0x000001D0FFDCE550>\n",
      "other = <__main__.Matrix object at 0x000001D0FFDCEB80>\n",
      "\n",
      "    \u001b[94mdef\u001b[39;49;00m \u001b[92m__add__\u001b[39;49;00m(\u001b[96mself\u001b[39;49;00m, other):\u001b[90m\u001b[39;49;00m\n",
      ">       \u001b[94mif\u001b[39;49;00m \u001b[96misinstance\u001b[39;49;00m(other, (\u001b[96mint\u001b[39;49;00m | \u001b[96mfloat\u001b[39;49;00m)):\u001b[90m\u001b[39;49;00m\n",
      "\u001b[1m\u001b[31mE       TypeError: unsupported operand type(s) for |: 'type' and 'type'\u001b[0m\n",
      "\n",
      "\u001b[1m\u001b[31mC:\\Users\\User\\AppData\\Local\\Temp\\ipykernel_19608\\1823575493.py\u001b[0m:6: TypeError\n",
      "\u001b[36m\u001b[1m===================================== short test summary info =====================================\u001b[0m\n",
      "\u001b[31mFAILED\u001b[0m t_38df7165233f495d8d1e632810b414df.py::\u001b[1mtest_matrix_add_matrix[matrix10-matrix20]\u001b[0m - TypeError: unsupported operand type(s) for |: 'type' and 'type'\n",
      "\u001b[31m\u001b[31m\u001b[1m1 failed\u001b[0m\u001b[31m in 0.04s\u001b[0m\u001b[0m\n"
     ]
    }
   ],
   "source": [
    "%%ipytest\n",
    "\n",
    "matrix1 = Matrix([[2, 3, 4],\n",
    "           [4, 3, 1],\n",
    "           [7, 5, 9]])\n",
    "matrix2 = Matrix([[4, 4, 5],\n",
    "           [8, 6, 4],\n",
    "           [1, 5, 7]])\n",
    "# number = 5\n",
    "\n",
    "\n",
    "@pytest.mark.parametrize(\"matrix1,matrix2\", [[matrix1, matrix2]])\n",
    "def test_matrix_add_matrix(matrix1: Matrix, matrix2: Matrix):\n",
    "    assert (\n",
    "        (matrix1 + matrix2 == (np.array(matrix1.matrix) + np.array(matrix2.matrix))).all()\n",
    "    ), 'add section with matrices is not working right'\n",
    "\n",
    "@pytest.mark.parametrize(\"matrix1,number\", [[matrix1, 13.2]])\n",
    "def test_matrix_add_number(matrix1: Matrix, number: int | float):\n",
    "    assert (\n",
    "        (matrix1 + number == np.array(matrix1.matrix) + number).all()\n",
    "    ), 'add section with matrix and number is not working right'\n",
    "\n",
    "@pytest.mark.parametrize(\"matrix1,matrix2\", [[matrix1, matrix2]])\n",
    "def test_matrix_sub_matrix(matrix1: Matrix, matrix2: Matrix):\n",
    "    assert (\n",
    "        (matrix1 - matrix2 == np.array(matrix1.matrix) - np.array(matrix2.matrix)).all()\n",
    "    ), 'sub section with matrices is not working right'\n",
    "\n",
    "@pytest.mark.parametrize(\"matrix1,number\", [[matrix1, 12.2]])    \n",
    "def test_matrix_sub_number(matrix1: Matrix, number: int | float):\n",
    "    assert (\n",
    "        (matrix1 - number == np.array(matrix1.matrix) - number).all()\n",
    "    ), 'sub section with matrix and number is not working right'\n",
    "    \n",
    "@pytest.mark.parametrize(\"matrix1\", [matrix1])    \n",
    "def test_matrix_transpose(matrix1: Matrix):\n",
    "    assert (\n",
    "        (matrix1.T().matrix == np.array(matrix1.matrix).T).all()\n",
    "    ), 'transpose section is not working right'\n",
    "    \n",
    "# -----------------------------------------\n",
    "\n",
    "@pytest.mark.parametrize(\"matrix1,matrix2\", [[matrix1, matrix2]])\n",
    "def test_matrix_mul_matrix(matrix1: Matrix, matrix2: Matrix):\n",
    "    assert (\n",
    "        (matrix1 * matrix2 == np.array(matrix1.matrix) * np.array(matrix2.matrix)).all()\n",
    "    ), 'mul section with matrices is not working right'\n",
    "\n",
    "@pytest.mark.parametrize(\"matrix1,number\", [[matrix1, 13]])\n",
    "def test_matrix_mul_number(matrix1: Matrix, number: int | float):\n",
    "    assert (\n",
    "        (matrix1 * number == np.array(matrix1.matrix) * number).all()\n",
    "    ), 'mul section with matrix and number is not working right'\n",
    "\n",
    "@pytest.mark.parametrize(\"matrix1,matrix2\", [[matrix1, matrix2]])    \n",
    "def test_matrix_div_matrix(matrix1: Matrix, matrix2: Matrix):\n",
    "    assert (\n",
    "        (matrix1 / matrix2 == np.array(matrix1.matrix) / np.array(matrix2.matrix)).all()\n",
    "    ), 'div section with matrices is not working right'\n",
    "\n",
    "@pytest.mark.parametrize(\"matrix1,number\", [[matrix1, 2]])    \n",
    "def test_matrix_div_number(matrix1: Matrix, number: int | float):\n",
    "    assert (\n",
    "        (matrix1 / number == np.array(matrix1.matrix) / number).all()\n",
    "    ), 'div section with matrix and number is not working right'\n",
    "\n",
    "@pytest.mark.parametrize(\"matrix1,matrix2\", [[matrix1, matrix2.T()]])    \n",
    "def test_matrix_matmul_matrix(matrix1: Matrix, matrix2: Matrix):\n",
    "    assert(\n",
    "        (matrix1 @ matrix2 == np.array(matrix1.matrix) @ np.array(matrix2.matrix)).all()\n",
    "    ), 'matmul section is not working right, and don\\'t forget about T() if needed'"
   ]
  },
  {
   "cell_type": "code",
   "execution_count": null,
   "metadata": {},
   "outputs": [],
   "source": []
  }
 ],
 "metadata": {
  "kernelspec": {
   "display_name": "Python 3",
   "language": "python",
   "name": "python3"
  },
  "language_info": {
   "codemirror_mode": {
    "name": "ipython",
    "version": 3
   },
   "file_extension": ".py",
   "mimetype": "text/x-python",
   "name": "python",
   "nbconvert_exporter": "python",
   "pygments_lexer": "ipython3",
   "version": "3.9.7"
  },
  "orig_nbformat": 4
 },
 "nbformat": 4,
 "nbformat_minor": 2
}
