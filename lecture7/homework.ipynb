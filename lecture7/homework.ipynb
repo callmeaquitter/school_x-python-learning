{
 "cells": [
  {
   "cell_type": "code",
   "execution_count": 4,
   "metadata": {},
   "outputs": [],
   "source": [
    "class Matrix:\n",
    "    def __init__(self, matrix):\n",
    "        self.matrix = matrix\n",
    "\n",
    "    def __add__(self, other):\n",
    "        result = []\n",
    "        for i in range(len(self.matrix)):\n",
    "            row = []\n",
    "            for j in range(len(self.matrix[0])):\n",
    "                row.append(self.matrix[i][j] + other.matrix[i][j])\n",
    "            result.append(row)\n",
    "        return Matrix(result)\n",
    "    \n",
    "    def T(self):\n",
    "        result = []\n",
    "        for j in range(len(self.matrix[0])):\n",
    "            row = []\n",
    "            for i in range(len(self.matrix)):\n",
    "                row.append(self.matrix[i][j])\n",
    "            result.append(row)\n",
    "        return Matrix(result)\n",
    "\n",
    "    def __sub__(self, other):\n",
    "        result = []\n",
    "        for i in range(len(self.matrix)):\n",
    "            row = []\n",
    "            for j in range(len(self.matrix[0])):\n",
    "                row.append(self.matrix[i][j] - other.matrix[i][j])\n",
    "            result.append(row)\n",
    "        return Matrix(result)\n",
    "\n",
    "\n",
    "    def __truediv__(self, other):\n",
    "        if isinstance(other, (int, float)):\n",
    "            result = []\n",
    "            for i in range(len(self.matrix)):\n",
    "                row = []\n",
    "                for j in range(len(self.matrix[0])):\n",
    "                    row.append(self.matrix[i][j] / other)\n",
    "                result.append(row)\n",
    "            return Matrix(result)\n",
    "\n",
    "    def __mul__(self, other):\n",
    "        result = []\n",
    "        for i in range(len(self.matrix)):\n",
    "            row = []\n",
    "            for j in range(len(other.matrix[0])):\n",
    "                sum = 0\n",
    "                for k in range(len(other.matrix)):\n",
    "                    sum += self.matrix[i][k] * other.matrix[k][j]\n",
    "                row.append(sum)\n",
    "            result.append(row)\n",
    "        return Matrix(result)"
   ]
  },
  {
   "cell_type": "code",
   "execution_count": 5,
   "metadata": {},
   "outputs": [
    {
     "ename": "TypeError",
     "evalue": "unsupported operand type(s) for @: 'Matrix' and 'Matrix'",
     "output_type": "error",
     "traceback": [
      "\u001b[1;31m---------------------------------------------------------------------------\u001b[0m",
      "\u001b[1;31mTypeError\u001b[0m                                 Traceback (most recent call last)",
      "\u001b[1;32md:\\Документики\\intensive\\lecture7\\homework.ipynb Cell 2\u001b[0m line \u001b[0;36m1\n\u001b[0;32m     <a href='vscode-notebook-cell:/d%3A/%D0%94%D0%BE%D0%BA%D1%83%D0%BC%D0%B5%D0%BD%D1%82%D0%B8%D0%BA%D0%B8/intensive/lecture7/homework.ipynb#W1sZmlsZQ%3D%3D?line=9'>10</a>\u001b[0m my_matrix1 \u001b[39m=\u001b[39m Matrix(matrix1)\n\u001b[0;32m     <a href='vscode-notebook-cell:/d%3A/%D0%94%D0%BE%D0%BA%D1%83%D0%BC%D0%B5%D0%BD%D1%82%D0%B8%D0%BA%D0%B8/intensive/lecture7/homework.ipynb#W1sZmlsZQ%3D%3D?line=10'>11</a>\u001b[0m my_matrix2 \u001b[39m=\u001b[39m Matrix(matrix2)\n\u001b[1;32m---> <a href='vscode-notebook-cell:/d%3A/%D0%94%D0%BE%D0%BA%D1%83%D0%BC%D0%B5%D0%BD%D1%82%D0%B8%D0%BA%D0%B8/intensive/lecture7/homework.ipynb#W1sZmlsZQ%3D%3D?line=12'>13</a>\u001b[0m \u001b[39mprint\u001b[39m(my_matrix1 \u001b[39m@\u001b[39;49m my_matrix2)\n\u001b[0;32m     <a href='vscode-notebook-cell:/d%3A/%D0%94%D0%BE%D0%BA%D1%83%D0%BC%D0%B5%D0%BD%D1%82%D0%B8%D0%BA%D0%B8/intensive/lecture7/homework.ipynb#W1sZmlsZQ%3D%3D?line=14'>15</a>\u001b[0m \u001b[39mprint\u001b[39m(my_matrix1 \u001b[39m+\u001b[39m my_matrix2)\n\u001b[0;32m     <a href='vscode-notebook-cell:/d%3A/%D0%94%D0%BE%D0%BA%D1%83%D0%BC%D0%B5%D0%BD%D1%82%D0%B8%D0%BA%D0%B8/intensive/lecture7/homework.ipynb#W1sZmlsZQ%3D%3D?line=16'>17</a>\u001b[0m \u001b[39mprint\u001b[39m(my_matrix1 \u001b[39m*\u001b[39m my_matrix2)\n",
      "\u001b[1;31mTypeError\u001b[0m: unsupported operand type(s) for @: 'Matrix' and 'Matrix'"
     ]
    }
   ],
   "source": [
    "matrix1 = [\n",
    "    [1, 2],\n",
    "    [4, 5]\n",
    "    ]\n",
    "matrix2 = [\n",
    "    [5, 6],\n",
    "    [7, 8]\n",
    "    ]\n",
    "\n",
    "my_matrix1 = Matrix(matrix1)\n",
    "my_matrix2 = Matrix(matrix2)\n",
    "\n",
    "print(my_matrix1 @ my_matrix2)\n",
    "\n",
    "print(my_matrix1 + my_matrix2)\n",
    "\n",
    "print(my_matrix1 * my_matrix2)\n",
    "\n",
    "print(my_matrix1 / 2)\n",
    "\n",
    "print(my_matrix1.T())"
   ]
  },
  {
   "cell_type": "code",
   "execution_count": null,
   "metadata": {},
   "outputs": [],
   "source": []
  },
  {
   "cell_type": "code",
   "execution_count": null,
   "metadata": {},
   "outputs": [],
   "source": []
  }
 ],
 "metadata": {
  "kernelspec": {
   "display_name": "Python 3",
   "language": "python",
   "name": "python3"
  },
  "language_info": {
   "codemirror_mode": {
    "name": "ipython",
    "version": 3
   },
   "file_extension": ".py",
   "mimetype": "text/x-python",
   "name": "python",
   "nbconvert_exporter": "python",
   "pygments_lexer": "ipython3",
   "version": "3.9.7"
  },
  "orig_nbformat": 4
 },
 "nbformat": 4,
 "nbformat_minor": 2
}
