{
 "cells": [
  {
   "cell_type": "code",
   "execution_count": 5,
   "metadata": {},
   "outputs": [
    {
     "name": "stdout",
     "output_type": "stream",
     "text": [
      "Collecting https://github.com/explosion/thinc/archive/master.zip\n",
      "Note: you may need to restart the kernel to use updated packages.\n"
     ]
    },
    {
     "name": "stderr",
     "output_type": "stream",
     "text": [
      "  WARNING: Certificate did not match expected hostname: codeload.github.com. Certificate: {'subject': ((('commonName', 'dns.google'),),), 'issuer': ((('countryName', 'US'),), (('organizationName', 'Google Trust Services LLC'),), (('commonName', 'GTS CA 1C3'),)), 'version': 3, 'serialNumber': 'E619EDCCD70BAF700A0D0D8DDC8CC39B', 'notBefore': 'Oct  9 08:11:30 2023 GMT', 'notAfter': 'Jan  1 08:11:29 2024 GMT', 'subjectAltName': (('DNS', 'dns.google'), ('DNS', 'dns.google.com'), ('DNS', '*.dns.google.com'), ('DNS', '8888.google'), ('DNS', 'dns64.dns.google'), ('IP Address', '8.8.8.8'), ('IP Address', '8.8.4.4'), ('IP Address', '2001:4860:4860:0:0:0:0:8888'), ('IP Address', '2001:4860:4860:0:0:0:0:8844'), ('IP Address', '2001:4860:4860:0:0:0:0:6464'), ('IP Address', '2001:4860:4860:0:0:0:0:64')), 'OCSP': ('http://ocsp.pki.goog/gts1c3',), 'caIssuers': ('http://pki.goog/repo/certs/gts1c3.der',), 'crlDistributionPoints': ('http://crls.pki.goog/gts1c3/zdATt0Ex_Fk.crl',)}\n",
      "  WARNING: Retrying (Retry(total=4, connect=None, read=None, redirect=None, status=None)) after connection broken by 'SSLError(CertificateError(\"hostname 'codeload.github.com' doesn't match either of 'dns.google', 'dns.google.com', '*.dns.google.com', '8888.google', 'dns64.dns.google', '8.8.8.8', '8.8.4.4', '2001:4860:4860:0:0:0:0:8888', '2001:4860:4860:0:0:0:0:8844', '2001:4860:4860:0:0:0:0:6464', '2001:4860:4860:0:0:0:0:64'\"))': /explosion/thinc/zip/refs/heads/master\n",
      "  WARNING: Certificate did not match expected hostname: codeload.github.com. Certificate: {'subject': ((('commonName', 'dns.google'),),), 'issuer': ((('countryName', 'US'),), (('organizationName', 'Google Trust Services LLC'),), (('commonName', 'GTS CA 1C3'),)), 'version': 3, 'serialNumber': 'E619EDCCD70BAF700A0D0D8DDC8CC39B', 'notBefore': 'Oct  9 08:11:30 2023 GMT', 'notAfter': 'Jan  1 08:11:29 2024 GMT', 'subjectAltName': (('DNS', 'dns.google'), ('DNS', 'dns.google.com'), ('DNS', '*.dns.google.com'), ('DNS', '8888.google'), ('DNS', 'dns64.dns.google'), ('IP Address', '8.8.8.8'), ('IP Address', '8.8.4.4'), ('IP Address', '2001:4860:4860:0:0:0:0:8888'), ('IP Address', '2001:4860:4860:0:0:0:0:8844'), ('IP Address', '2001:4860:4860:0:0:0:0:6464'), ('IP Address', '2001:4860:4860:0:0:0:0:64')), 'OCSP': ('http://ocsp.pki.goog/gts1c3',), 'caIssuers': ('http://pki.goog/repo/certs/gts1c3.der',), 'crlDistributionPoints': ('http://crls.pki.goog/gts1c3/zdATt0Ex_Fk.crl',)}\n",
      "  WARNING: Retrying (Retry(total=3, connect=None, read=None, redirect=None, status=None)) after connection broken by 'SSLError(CertificateError(\"hostname 'codeload.github.com' doesn't match either of 'dns.google', 'dns.google.com', '*.dns.google.com', '8888.google', 'dns64.dns.google', '8.8.8.8', '8.8.4.4', '2001:4860:4860:0:0:0:0:8888', '2001:4860:4860:0:0:0:0:8844', '2001:4860:4860:0:0:0:0:6464', '2001:4860:4860:0:0:0:0:64'\"))': /explosion/thinc/zip/refs/heads/master\n",
      "  WARNING: Certificate did not match expected hostname: codeload.github.com. Certificate: {'subject': ((('commonName', 'dns.google'),),), 'issuer': ((('countryName', 'US'),), (('organizationName', 'Google Trust Services LLC'),), (('commonName', 'GTS CA 1C3'),)), 'version': 3, 'serialNumber': 'E619EDCCD70BAF700A0D0D8DDC8CC39B', 'notBefore': 'Oct  9 08:11:30 2023 GMT', 'notAfter': 'Jan  1 08:11:29 2024 GMT', 'subjectAltName': (('DNS', 'dns.google'), ('DNS', 'dns.google.com'), ('DNS', '*.dns.google.com'), ('DNS', '8888.google'), ('DNS', 'dns64.dns.google'), ('IP Address', '8.8.8.8'), ('IP Address', '8.8.4.4'), ('IP Address', '2001:4860:4860:0:0:0:0:8888'), ('IP Address', '2001:4860:4860:0:0:0:0:8844'), ('IP Address', '2001:4860:4860:0:0:0:0:6464'), ('IP Address', '2001:4860:4860:0:0:0:0:64')), 'OCSP': ('http://ocsp.pki.goog/gts1c3',), 'caIssuers': ('http://pki.goog/repo/certs/gts1c3.der',), 'crlDistributionPoints': ('http://crls.pki.goog/gts1c3/zdATt0Ex_Fk.crl',)}\n",
      "  WARNING: Retrying (Retry(total=2, connect=None, read=None, redirect=None, status=None)) after connection broken by 'SSLError(CertificateError(\"hostname 'codeload.github.com' doesn't match either of 'dns.google', 'dns.google.com', '*.dns.google.com', '8888.google', 'dns64.dns.google', '8.8.8.8', '8.8.4.4', '2001:4860:4860:0:0:0:0:8888', '2001:4860:4860:0:0:0:0:8844', '2001:4860:4860:0:0:0:0:6464', '2001:4860:4860:0:0:0:0:64'\"))': /explosion/thinc/zip/refs/heads/master\n",
      "  WARNING: Certificate did not match expected hostname: codeload.github.com. Certificate: {'subject': ((('commonName', 'dns.google'),),), 'issuer': ((('countryName', 'US'),), (('organizationName', 'Google Trust Services LLC'),), (('commonName', 'GTS CA 1C3'),)), 'version': 3, 'serialNumber': 'E619EDCCD70BAF700A0D0D8DDC8CC39B', 'notBefore': 'Oct  9 08:11:30 2023 GMT', 'notAfter': 'Jan  1 08:11:29 2024 GMT', 'subjectAltName': (('DNS', 'dns.google'), ('DNS', 'dns.google.com'), ('DNS', '*.dns.google.com'), ('DNS', '8888.google'), ('DNS', 'dns64.dns.google'), ('IP Address', '8.8.8.8'), ('IP Address', '8.8.4.4'), ('IP Address', '2001:4860:4860:0:0:0:0:8888'), ('IP Address', '2001:4860:4860:0:0:0:0:8844'), ('IP Address', '2001:4860:4860:0:0:0:0:6464'), ('IP Address', '2001:4860:4860:0:0:0:0:64')), 'OCSP': ('http://ocsp.pki.goog/gts1c3',), 'caIssuers': ('http://pki.goog/repo/certs/gts1c3.der',), 'crlDistributionPoints': ('http://crls.pki.goog/gts1c3/zdATt0Ex_Fk.crl',)}\n",
      "  WARNING: Retrying (Retry(total=1, connect=None, read=None, redirect=None, status=None)) after connection broken by 'SSLError(CertificateError(\"hostname 'codeload.github.com' doesn't match either of 'dns.google', 'dns.google.com', '*.dns.google.com', '8888.google', 'dns64.dns.google', '8.8.8.8', '8.8.4.4', '2001:4860:4860:0:0:0:0:8888', '2001:4860:4860:0:0:0:0:8844', '2001:4860:4860:0:0:0:0:6464', '2001:4860:4860:0:0:0:0:64'\"))': /explosion/thinc/zip/refs/heads/master\n",
      "  WARNING: Certificate did not match expected hostname: codeload.github.com. Certificate: {'subject': ((('commonName', 'dns.google'),),), 'issuer': ((('countryName', 'US'),), (('organizationName', 'Google Trust Services LLC'),), (('commonName', 'GTS CA 1C3'),)), 'version': 3, 'serialNumber': 'E619EDCCD70BAF700A0D0D8DDC8CC39B', 'notBefore': 'Oct  9 08:11:30 2023 GMT', 'notAfter': 'Jan  1 08:11:29 2024 GMT', 'subjectAltName': (('DNS', 'dns.google'), ('DNS', 'dns.google.com'), ('DNS', '*.dns.google.com'), ('DNS', '8888.google'), ('DNS', 'dns64.dns.google'), ('IP Address', '8.8.8.8'), ('IP Address', '8.8.4.4'), ('IP Address', '2001:4860:4860:0:0:0:0:8888'), ('IP Address', '2001:4860:4860:0:0:0:0:8844'), ('IP Address', '2001:4860:4860:0:0:0:0:6464'), ('IP Address', '2001:4860:4860:0:0:0:0:64')), 'OCSP': ('http://ocsp.pki.goog/gts1c3',), 'caIssuers': ('http://pki.goog/repo/certs/gts1c3.der',), 'crlDistributionPoints': ('http://crls.pki.goog/gts1c3/zdATt0Ex_Fk.crl',)}\n",
      "  WARNING: Retrying (Retry(total=0, connect=None, read=None, redirect=None, status=None)) after connection broken by 'SSLError(CertificateError(\"hostname 'codeload.github.com' doesn't match either of 'dns.google', 'dns.google.com', '*.dns.google.com', '8888.google', 'dns64.dns.google', '8.8.8.8', '8.8.4.4', '2001:4860:4860:0:0:0:0:8888', '2001:4860:4860:0:0:0:0:8844', '2001:4860:4860:0:0:0:0:6464', '2001:4860:4860:0:0:0:0:64'\"))': /explosion/thinc/zip/refs/heads/master\n",
      "  WARNING: Certificate did not match expected hostname: codeload.github.com. Certificate: {'subject': ((('commonName', 'dns.google'),),), 'issuer': ((('countryName', 'US'),), (('organizationName', 'Google Trust Services LLC'),), (('commonName', 'GTS CA 1C3'),)), 'version': 3, 'serialNumber': 'E619EDCCD70BAF700A0D0D8DDC8CC39B', 'notBefore': 'Oct  9 08:11:30 2023 GMT', 'notAfter': 'Jan  1 08:11:29 2024 GMT', 'subjectAltName': (('DNS', 'dns.google'), ('DNS', 'dns.google.com'), ('DNS', '*.dns.google.com'), ('DNS', '8888.google'), ('DNS', 'dns64.dns.google'), ('IP Address', '8.8.8.8'), ('IP Address', '8.8.4.4'), ('IP Address', '2001:4860:4860:0:0:0:0:8888'), ('IP Address', '2001:4860:4860:0:0:0:0:8844'), ('IP Address', '2001:4860:4860:0:0:0:0:6464'), ('IP Address', '2001:4860:4860:0:0:0:0:64')), 'OCSP': ('http://ocsp.pki.goog/gts1c3',), 'caIssuers': ('http://pki.goog/repo/certs/gts1c3.der',), 'crlDistributionPoints': ('http://crls.pki.goog/gts1c3/zdATt0Ex_Fk.crl',)}\n",
      "ERROR: Could not install packages due to an OSError: HTTPSConnectionPool(host='codeload.github.com', port=443): Max retries exceeded with url: /explosion/thinc/zip/refs/heads/master (Caused by SSLError(CertificateError(\"hostname 'codeload.github.com' doesn't match either of 'dns.google', 'dns.google.com', '*.dns.google.com', '8888.google', 'dns64.dns.google', '8.8.8.8', '8.8.4.4', '2001:4860:4860:0:0:0:0:8888', '2001:4860:4860:0:0:0:0:8844', '2001:4860:4860:0:0:0:0:6464', '2001:4860:4860:0:0:0:0:64'\")))\n",
      "\n",
      "\n",
      "[notice] A new release of pip is available: 23.2.1 -> 23.3.1\n",
      "[notice] To update, run: python.exe -m pip install --upgrade pip\n"
     ]
    }
   ],
   "source": [
    "%pip install https://github.com/explosion/thinc/archive/master.zip"
   ]
  },
  {
   "cell_type": "code",
   "execution_count": 6,
   "metadata": {},
   "outputs": [
    {
     "ename": "ModuleNotFoundError",
     "evalue": "No module named 'thinc.backends.cblas'",
     "output_type": "error",
     "traceback": [
      "\u001b[1;31m---------------------------------------------------------------------------\u001b[0m",
      "\u001b[1;31mModuleNotFoundError\u001b[0m                       Traceback (most recent call last)",
      "\u001b[1;32md:\\Документики\\intensive\\lecture16\\Preprocessing.ipynb Cell 2\u001b[0m line \u001b[0;36m1\n\u001b[1;32m----> <a href='vscode-notebook-cell:/d%3A/%D0%94%D0%BE%D0%BA%D1%83%D0%BC%D0%B5%D0%BD%D1%82%D0%B8%D0%BA%D0%B8/intensive/lecture16/Preprocessing.ipynb#W0sZmlsZQ%3D%3D?line=0'>1</a>\u001b[0m \u001b[39mimport\u001b[39;00m \u001b[39mspacy\u001b[39;00m\n\u001b[0;32m      <a href='vscode-notebook-cell:/d%3A/%D0%94%D0%BE%D0%BA%D1%83%D0%BC%D0%B5%D0%BD%D1%82%D0%B8%D0%BA%D0%B8/intensive/lecture16/Preprocessing.ipynb#W0sZmlsZQ%3D%3D?line=1'>2</a>\u001b[0m \u001b[39mfrom\u001b[39;00m \u001b[39mcollections\u001b[39;00m \u001b[39mimport\u001b[39;00m Counter\n\u001b[0;32m      <a href='vscode-notebook-cell:/d%3A/%D0%94%D0%BE%D0%BA%D1%83%D0%BC%D0%B5%D0%BD%D1%82%D0%B8%D0%BA%D0%B8/intensive/lecture16/Preprocessing.ipynb#W0sZmlsZQ%3D%3D?line=2'>3</a>\u001b[0m \u001b[39mfrom\u001b[39;00m \u001b[39mwordcloud\u001b[39;00m \u001b[39mimport\u001b[39;00m WordCloud\n",
      "File \u001b[1;32mc:\\Users\\User\\AppData\\Local\\Programs\\Python\\Python310\\lib\\site-packages\\spacy\\__init__.py:13\u001b[0m\n\u001b[0;32m     10\u001b[0m \u001b[39m# These are imported as part of the API\u001b[39;00m\n\u001b[0;32m     11\u001b[0m \u001b[39mfrom\u001b[39;00m \u001b[39mthinc\u001b[39;00m\u001b[39m.\u001b[39;00m\u001b[39mapi\u001b[39;00m \u001b[39mimport\u001b[39;00m Config, prefer_gpu, require_cpu, require_gpu  \u001b[39m# noqa: F401\u001b[39;00m\n\u001b[1;32m---> 13\u001b[0m \u001b[39mfrom\u001b[39;00m \u001b[39m.\u001b[39;00m \u001b[39mimport\u001b[39;00m pipeline  \u001b[39m# noqa: F401\u001b[39;00m\n\u001b[0;32m     14\u001b[0m \u001b[39mfrom\u001b[39;00m \u001b[39m.\u001b[39;00m \u001b[39mimport\u001b[39;00m util\n\u001b[0;32m     15\u001b[0m \u001b[39mfrom\u001b[39;00m \u001b[39m.\u001b[39;00m\u001b[39mabout\u001b[39;00m \u001b[39mimport\u001b[39;00m __version__  \u001b[39m# noqa: F401\u001b[39;00m\n",
      "File \u001b[1;32mc:\\Users\\User\\AppData\\Local\\Programs\\Python\\Python310\\lib\\site-packages\\spacy\\pipeline\\__init__.py:2\u001b[0m\n\u001b[0;32m      1\u001b[0m \u001b[39mfrom\u001b[39;00m \u001b[39m.\u001b[39;00m\u001b[39mattributeruler\u001b[39;00m \u001b[39mimport\u001b[39;00m AttributeRuler\n\u001b[1;32m----> 2\u001b[0m \u001b[39mfrom\u001b[39;00m \u001b[39m.\u001b[39;00m\u001b[39mdep_parser\u001b[39;00m \u001b[39mimport\u001b[39;00m DependencyParser\n\u001b[0;32m      3\u001b[0m \u001b[39mfrom\u001b[39;00m \u001b[39m.\u001b[39;00m\u001b[39medit_tree_lemmatizer\u001b[39;00m \u001b[39mimport\u001b[39;00m EditTreeLemmatizer\n\u001b[0;32m      4\u001b[0m \u001b[39mfrom\u001b[39;00m \u001b[39m.\u001b[39;00m\u001b[39mentity_linker\u001b[39;00m \u001b[39mimport\u001b[39;00m EntityLinker\n",
      "File \u001b[1;32mc:\\Users\\User\\AppData\\Local\\Programs\\Python\\Python310\\lib\\site-packages\\spacy\\pipeline\\dep_parser.pyx:1\u001b[0m, in \u001b[0;36minit spacy.pipeline.dep_parser\u001b[1;34m()\u001b[0m\n",
      "File \u001b[1;32mc:\\Users\\User\\AppData\\Local\\Programs\\Python\\Python310\\lib\\site-packages\\spacy\\pipeline\\transition_parser.pyx:1\u001b[0m, in \u001b[0;36minit spacy.pipeline.transition_parser\u001b[1;34m()\u001b[0m\n",
      "\u001b[1;31mModuleNotFoundError\u001b[0m: No module named 'thinc.backends.cblas'"
     ]
    }
   ],
   "source": [
    "import spacy\n",
    "from collections import Counter\n",
    "from wordcloud import WordCloud\n",
    "import matplotlib.pyplot as plt\n",
    "\n",
    "# Загрузка модели языка\n",
    "nlp = spacy.load('ru_core_news_sm')\n",
    "\n",
    "# Загрузка текста из файла\n",
    "with open('Pigmalion.txt', 'r', encoding='utf-8') as f:\n",
    "    text = f.read()\n",
    "\n",
    "# Обработка текста\n",
    "doc = nlp(text)\n",
    "sentences = list(doc.sents)\n",
    "tokens = [token for token in doc if not token.is_punct and not token.is_stop]\n",
    "\n",
    "# Подсчет частоты слов\n",
    "word_freq = Counter(token.text for token in tokens if token.is_alpha)\n",
    "most_common_word = str(word_freq.most_common(20))\n",
    "\n",
    "# Создание облака слов\n",
    "word_cloud = WordCloud().generate(most_common_word)\n",
    "\n",
    "# Отображение облака слов\n",
    "plt.imshow(word_cloud, interpolation='bilinear')\n",
    "plt.axis(\"off\")\n",
    "plt.show()\n",
    "\n",
    "# Вывод предложений\n",
    "for i, sentence in enumerate(sentences[:10]):\n",
    "    print(f'Sentence {i+1}: {sentence}')\n"
   ]
  },
  {
   "cell_type": "code",
   "execution_count": null,
   "metadata": {},
   "outputs": [],
   "source": []
  }
 ],
 "metadata": {
  "kernelspec": {
   "display_name": "Python 3",
   "language": "python",
   "name": "python3"
  },
  "language_info": {
   "codemirror_mode": {
    "name": "ipython",
    "version": 3
   },
   "file_extension": ".py",
   "mimetype": "text/x-python",
   "name": "python",
   "nbconvert_exporter": "python",
   "pygments_lexer": "ipython3",
   "version": "3.10.1"
  }
 },
 "nbformat": 4,
 "nbformat_minor": 2
}
