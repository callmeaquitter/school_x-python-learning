{
 "cells": [
  {
   "cell_type": "code",
   "execution_count": null,
   "id": "7b39dc45-2369-4483-9a6b-128954ce0c5d",
   "metadata": {},
   "outputs": [],
   "source": []
  },
  {
   "cell_type": "code",
   "execution_count": 19,
   "id": "749297e0-913b-4633-b0b4-5ec18dabf38c",
   "metadata": {},
   "outputs": [],
   "source": [
    "tree = {\n",
    "   1: {\n",
    "       'first_inner': {\n",
    "            1: 'text',\n",
    "            2: 'text',\n",
    "            3: 'text',\n",
    "        },\n",
    "    },\n",
    "    2: {\n",
    "        'second_inner': {\n",
    "            'second_2_inner': {\n",
    "                'second_3_inner_1': {\n",
    "                    1: 'folder',\n",
    "                    1: 'folder',\n",
    "                    1: 'target_folder',\n",
    "                },\n",
    "                'second_3_inner_2': [1, 2, 3]\n",
    "            }\n",
    "        }\n",
    "    },\n",
    "}\n"
   ]
  },
  {
   "cell_type": "code",
   "execution_count": 22,
   "id": "b0278a90-0567-43ba-97ef-e026baa54346",
   "metadata": {},
   "outputs": [],
   "source": [
    "def rec_find(tree: dict, name: str):\n",
    "    for key, value in tree.items():\n",
    "        if isinstance(value, dict):\n",
    "            rec_finder(value, name)\n",
    "        else:\n",
    "            if value == name:\n",
    "                print('FOUND IT')\n",
    "                break\n",
    "            # print(value)\n",
    "            # print(f'ключ - {key}, значение - {value}\\n')"
   ]
  },
  {
   "cell_type": "code",
   "execution_count": 23,
   "id": "01e15c52-394f-4daf-ba28-f14a4c2196ae",
   "metadata": {},
   "outputs": [
    {
     "data": {
      "text/plain": [
       "{1: {'first_inner': {1: 'text', 2: 'text', 3: 'text'}},\n",
       " 2: {'second_inner': {'second_2_inner': {'second_3_inner_1': {1: 'target_folder'},\n",
       "    'second_3_inner_2': [1, 2, 3]}}}}"
      ]
     },
     "execution_count": 23,
     "metadata": {},
     "output_type": "execute_result"
    }
   ],
   "source": [
    "tree"
   ]
  },
  {
   "cell_type": "code",
   "execution_count": 16,
   "id": "3db6a2cf-c29c-4619-bc61-bcbb94eb98d4",
   "metadata": {},
   "outputs": [],
   "source": [
    "a = 2"
   ]
  },
  {
   "cell_type": "code",
   "execution_count": 17,
   "id": "54c739d8-e345-4d38-bdf7-79a53e6afc8a",
   "metadata": {},
   "outputs": [
    {
     "data": {
      "text/plain": [
       "True"
      ]
     },
     "execution_count": 17,
     "metadata": {},
     "output_type": "execute_result"
    }
   ],
   "source": [
    "isinstance(a, int)"
   ]
  },
  {
   "cell_type": "code",
   "execution_count": 24,
   "id": "9a805ff0-443f-41a6-9fae-f66383303a70",
   "metadata": {},
   "outputs": [
    {
     "ename": "NameError",
     "evalue": "name 'rec_finder' is not defined",
     "output_type": "error",
     "traceback": [
      "\u001b[1;31m---------------------------------------------------------------------------\u001b[0m",
      "\u001b[1;31mNameError\u001b[0m                                 Traceback (most recent call last)",
      "Cell \u001b[1;32mIn[24], line 1\u001b[0m\n\u001b[1;32m----> 1\u001b[0m \u001b[43mrec_find\u001b[49m\u001b[43m(\u001b[49m\u001b[43mtree\u001b[49m\u001b[43m,\u001b[49m\u001b[43m \u001b[49m\u001b[38;5;124;43m'\u001b[39;49m\u001b[38;5;124;43mtarget_folder\u001b[39;49m\u001b[38;5;124;43m'\u001b[39;49m\u001b[43m)\u001b[49m\n",
      "Cell \u001b[1;32mIn[22], line 4\u001b[0m, in \u001b[0;36mrec_find\u001b[1;34m(tree, name)\u001b[0m\n\u001b[0;32m      2\u001b[0m \u001b[38;5;28;01mfor\u001b[39;00m key, value \u001b[38;5;129;01min\u001b[39;00m tree\u001b[38;5;241m.\u001b[39mitems():\n\u001b[0;32m      3\u001b[0m     \u001b[38;5;28;01mif\u001b[39;00m \u001b[38;5;28misinstance\u001b[39m(value, \u001b[38;5;28mdict\u001b[39m):\n\u001b[1;32m----> 4\u001b[0m         \u001b[43mrec_finder\u001b[49m\n\u001b[0;32m      5\u001b[0m         \u001b[38;5;28mprint\u001b[39m(\u001b[38;5;124mf\u001b[39m\u001b[38;5;124m'\u001b[39m\u001b[38;5;124mключ - \u001b[39m\u001b[38;5;132;01m{\u001b[39;00mkey\u001b[38;5;132;01m}\u001b[39;00m\u001b[38;5;124m, значение - \u001b[39m\u001b[38;5;132;01m{\u001b[39;00mvalue\u001b[38;5;132;01m}\u001b[39;00m\u001b[38;5;130;01m\\n\u001b[39;00m\u001b[38;5;124m'\u001b[39m)\n",
      "\u001b[1;31mNameError\u001b[0m: name 'rec_finder' is not defined"
     ]
    }
   ],
   "source": [
    "rec_find(tree, 'target_folder')"
   ]
  },
  {
   "cell_type": "code",
   "execution_count": null,
   "id": "da9a88ed-5176-4d10-83a0-a5536e719654",
   "metadata": {},
   "outputs": [],
   "source": []
  }
 ],
 "metadata": {
  "kernelspec": {
   "display_name": "Python 3 (ipykernel)",
   "language": "python",
   "name": "python3"
  },
  "language_info": {
   "codemirror_mode": {
    "name": "ipython",
    "version": 3
   },
   "file_extension": ".py",
   "mimetype": "text/x-python",
   "name": "python",
   "nbconvert_exporter": "python",
   "pygments_lexer": "ipython3",
   "version": "3.10.1"
  }
 },
 "nbformat": 4,
 "nbformat_minor": 5
}
