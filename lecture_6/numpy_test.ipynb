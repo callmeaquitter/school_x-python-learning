{
 "cells": [
  {
   "cell_type": "code",
   "execution_count": 12,
   "id": "f3a64a18-aaad-4c16-a9ab-7b8dc4810709",
   "metadata": {},
   "outputs": [
    {
     "name": "stdout",
     "output_type": "stream",
     "text": [
      "Note: you may need to restart the kernel to use updated packages.\n"
     ]
    }
   ],
   "source": [
    "%pip install -q numpy"
   ]
  },
  {
   "cell_type": "code",
   "execution_count": 19,
   "id": "86224009-53d2-4bbf-adec-93fb147dcb9c",
   "metadata": {},
   "outputs": [],
   "source": [
    "import numpy as np"
   ]
  },
  {
   "cell_type": "code",
   "execution_count": 21,
   "id": "fc4f1a53-a3cd-439f-8b28-73bbd28bbc0b",
   "metadata": {},
   "outputs": [],
   "source": [
    "a = np.array([1, 2, 3, 4, 5, 6])\n",
    "b = np.array([0, 1, 1, 0, 0, 1])\n",
    "#ans = [0, 2, 3, 0, 0, 6]"
   ]
  },
  {
   "cell_type": "code",
   "execution_count": 27,
   "id": "1dff89e8-20ae-41e4-834a-e09493a405ff",
   "metadata": {},
   "outputs": [
    {
     "data": {
      "text/plain": [
       "array([0, 2, 3, 0, 0, 6])"
      ]
     },
     "execution_count": 27,
     "metadata": {},
     "output_type": "execute_result"
    }
   ],
   "source": [
    "a * b"
   ]
  },
  {
   "cell_type": "code",
   "execution_count": 30,
   "id": "cf86187e-2319-48ce-9f18-df3a75c729bd",
   "metadata": {},
   "outputs": [
    {
     "data": {
      "text/plain": [
       "11"
      ]
     },
     "execution_count": 30,
     "metadata": {},
     "output_type": "execute_result"
    }
   ],
   "source": [
    "a @ b"
   ]
  },
  {
   "cell_type": "code",
   "execution_count": 26,
   "id": "e0eade93-42f1-4710-8789-9dd045b051fc",
   "metadata": {},
   "outputs": [
    {
     "data": {
      "text/plain": [
       "array([[1, 3],\n",
       "       [2, 2],\n",
       "       [3, 1]])"
      ]
     },
     "execution_count": 26,
     "metadata": {},
     "output_type": "execute_result"
    }
   ],
   "source": [
    "c =np.array ([\n",
    "    [1, 2, 3],\n",
    "    [3, 2, 1]\n",
    "])\n",
    "c.T"
   ]
  },
  {
   "cell_type": "code",
   "execution_count": null,
   "id": "734dac97-758c-4f81-9577-3f1929d73449",
   "metadata": {},
   "outputs": [],
   "source": []
  }
 ],
 "metadata": {
  "kernelspec": {
   "display_name": "Python 3 (ipykernel)",
   "language": "python",
   "name": "python3"
  },
  "language_info": {
   "codemirror_mode": {
    "name": "ipython",
    "version": 3
   },
   "file_extension": ".py",
   "mimetype": "text/x-python",
   "name": "python",
   "nbconvert_exporter": "python",
   "pygments_lexer": "ipython3",
   "version": "3.10.1"
  }
 },
 "nbformat": 4,
 "nbformat_minor": 5
}
