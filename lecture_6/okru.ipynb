{
 "cells": [
  {
   "cell_type": "code",
   "execution_count": 96,
   "id": "36bd0ba1-cabe-4fa0-ba53-345bb7e9e5df",
   "metadata": {},
   "outputs": [],
   "source": [
    "class Human:\n",
    "\n",
    "    # weight: float | int = 80\n",
    "    # height: float | int = 170\n",
    "    # name: str | None = None\n",
    "    iq: int = 100\n",
    "\n",
    "    def __init__(\n",
    "        self, \n",
    "        weight: float | int = 80,\n",
    "        height: float | int = 170, \n",
    "        name: str | None = None\n",
    "    ):\n",
    "        self.weight = weight\n",
    "        self.height = height\n",
    "        self.name = name\n",
    "\n",
    "    def walk(self, speed: float | int = 1.0):\n",
    "        print('Я иду со скоростью:', speed) #указатель к конкретному классу вниутри\n",
    "\n",
    "    def run(self, speed: float | int = 5.0):\n",
    "        if self.weight > 110:\n",
    "            print('Я не могу бежать')\n",
    "        else:\n",
    "            print('Я бегу')\n",
    "\n",
    "    def breathe(self):  #функция технически принадлежит данному классу и передает это\n",
    "        if self.height > 200:\n",
    "            print('')\n",
    "        elif self.weigth >= 100:\n",
    "            print('')\n",
    "        elif self.iq < 60:\n",
    "            print('Я не дышу')\n",
    "\n"
   ]
  },
  {
   "cell_type": "code",
   "execution_count": 97,
   "id": "3256f0d1-ddcc-4cb6-9dc2-84fb63c189e9",
   "metadata": {},
   "outputs": [],
   "source": [
    "vova1 = Human()"
   ]
  },
  {
   "cell_type": "code",
   "execution_count": 98,
   "id": "ffb19a8e-4222-48e5-b02c-50ae9d737504",
   "metadata": {},
   "outputs": [
    {
     "name": "stdout",
     "output_type": "stream",
     "text": [
      "Я иду со скоростью: 3\n"
     ]
    }
   ],
   "source": [
    "vova1.walk(speed = 3) #функция"
   ]
  },
  {
   "cell_type": "code",
   "execution_count": 99,
   "id": "0ef4138b-7ca5-4077-abd8-165cd3138976",
   "metadata": {},
   "outputs": [],
   "source": [
    "vova1.weight #переменная\n",
    "vova1.name = 'Vova'"
   ]
  },
  {
   "cell_type": "code",
   "execution_count": 100,
   "id": "e33541fc-e503-4d70-93b0-d2ec5604048e",
   "metadata": {},
   "outputs": [
    {
     "data": {
      "text/plain": [
       "'Vova'"
      ]
     },
     "execution_count": 100,
     "metadata": {},
     "output_type": "execute_result"
    }
   ],
   "source": [
    "vova1.name"
   ]
  },
  {
   "cell_type": "code",
   "execution_count": 101,
   "id": "7f3e0e61-88c2-4ed3-8259-4d2c9543dc90",
   "metadata": {},
   "outputs": [
    {
     "name": "stdout",
     "output_type": "stream",
     "text": [
      "Я бегу\n"
     ]
    }
   ],
   "source": [
    "vova1.run()"
   ]
  },
  {
   "cell_type": "code",
   "execution_count": 113,
   "id": "f9f8ce32-f0a3-43ce-b22d-457d61390323",
   "metadata": {},
   "outputs": [],
   "source": [
    "vova2 = Human(\n",
    "    height = 90,\n",
    "    weight = 220,\n",
    "    name= 'Vova'\n",
    ")"
   ]
  },
  {
   "cell_type": "code",
   "execution_count": 103,
   "id": "6a56ccd4-e3f9-49a8-9b37-8f36144c161d",
   "metadata": {},
   "outputs": [
    {
     "data": {
      "text/plain": [
       "100"
      ]
     },
     "execution_count": 103,
     "metadata": {},
     "output_type": "execute_result"
    }
   ],
   "source": [
    "vova2.iq"
   ]
  },
  {
   "cell_type": "code",
   "execution_count": 104,
   "id": "200dbea2-149e-4c49-b154-3dc74a143109",
   "metadata": {},
   "outputs": [
    {
     "data": {
      "text/plain": [
       "220"
      ]
     },
     "execution_count": 104,
     "metadata": {},
     "output_type": "execute_result"
    }
   ],
   "source": [
    "vova2.weight"
   ]
  },
  {
   "cell_type": "code",
   "execution_count": 105,
   "id": "e56a1ebd-7ee1-422f-9e3e-bf125690fccc",
   "metadata": {},
   "outputs": [
    {
     "name": "stdout",
     "output_type": "stream",
     "text": [
      "Я не могу бежать\n"
     ]
    }
   ],
   "source": [
    "vova2.run()"
   ]
  },
  {
   "cell_type": "code",
   "execution_count": 106,
   "id": "93752d99-a47d-4c47-933b-80241b87c2f1",
   "metadata": {},
   "outputs": [],
   "source": [
    "vova3 = Human(height = 300, weight = 90)\n",
    "vova4 = Human(height = 180, weight = 400)\n",
    "vova5 = Human()\n",
    "vova5.iq = 30"
   ]
  },
  {
   "cell_type": "code",
   "execution_count": 107,
   "id": "6bdc2b44-8746-47d1-9ad5-bf0f63a3d68c",
   "metadata": {},
   "outputs": [
    {
     "name": "stdout",
     "output_type": "stream",
     "text": [
      "VOVA 3\n",
      "Я иду со скоростью: 1.0\n",
      "Я бегу\n",
      "\n",
      "Я дышу\n",
      "---------------\n",
      "VOVA 4\n",
      "Я иду со скоростью: 1.0\n",
      "Я не могу бежать\n"
     ]
    },
    {
     "ename": "AttributeError",
     "evalue": "'Human' object has no attribute 'weigth'",
     "output_type": "error",
     "traceback": [
      "\u001b[1;31m---------------------------------------------------------------------------\u001b[0m",
      "\u001b[1;31mAttributeError\u001b[0m                            Traceback (most recent call last)",
      "Cell \u001b[1;32mIn[107], line 7\u001b[0m\n\u001b[0;32m      5\u001b[0m local_vova\u001b[38;5;241m.\u001b[39mwalk()\n\u001b[0;32m      6\u001b[0m local_vova\u001b[38;5;241m.\u001b[39mrun()\n\u001b[1;32m----> 7\u001b[0m \u001b[43mlocal_vova\u001b[49m\u001b[38;5;241;43m.\u001b[39;49m\u001b[43mbreathe\u001b[49m\u001b[43m(\u001b[49m\u001b[43m)\u001b[49m\n\u001b[0;32m      8\u001b[0m \u001b[38;5;28mprint\u001b[39m(\u001b[38;5;124m'\u001b[39m\u001b[38;5;124m-\u001b[39m\u001b[38;5;124m'\u001b[39m \u001b[38;5;241m*\u001b[39m \u001b[38;5;241m15\u001b[39m)\n",
      "Cell \u001b[1;32mIn[96], line 30\u001b[0m, in \u001b[0;36mHuman.breathe\u001b[1;34m(self)\u001b[0m\n\u001b[0;32m     28\u001b[0m \u001b[38;5;28;01mif\u001b[39;00m \u001b[38;5;28mself\u001b[39m\u001b[38;5;241m.\u001b[39mheight \u001b[38;5;241m>\u001b[39m \u001b[38;5;241m200\u001b[39m:\n\u001b[0;32m     29\u001b[0m     \u001b[38;5;28mprint\u001b[39m(\u001b[38;5;124m'\u001b[39m\u001b[38;5;124m'\u001b[39m)\n\u001b[1;32m---> 30\u001b[0m \u001b[38;5;28;01melif\u001b[39;00m \u001b[38;5;28;43mself\u001b[39;49m\u001b[38;5;241;43m.\u001b[39;49m\u001b[43mweigth\u001b[49m \u001b[38;5;241m>\u001b[39m\u001b[38;5;241m=\u001b[39m \u001b[38;5;241m100\u001b[39m:\n\u001b[0;32m     31\u001b[0m     \u001b[38;5;28mprint\u001b[39m(\u001b[38;5;124m'\u001b[39m\u001b[38;5;124m'\u001b[39m)\n\u001b[0;32m     32\u001b[0m \u001b[38;5;28;01melif\u001b[39;00m \u001b[38;5;28mself\u001b[39m\u001b[38;5;241m.\u001b[39miq \u001b[38;5;241m<\u001b[39m \u001b[38;5;241m60\u001b[39m:\n",
      "\u001b[1;31mAttributeError\u001b[0m: 'Human' object has no attribute 'weigth'"
     ]
    }
   ],
   "source": [
    "vovas_list: list[Human] = [vova3, vova4, vova5]\n",
    "for index_vova, local_vova in enumerate([vova3, vova4, vova5]):\n",
    "    index_vova += 3\n",
    "    print('VOVA', index_vova)\n",
    "    local_vova.walk()\n",
    "    local_vova.run()\n",
    "    local_vova.breathe()\n",
    "    print('-' * 15)"
   ]
  },
  {
   "cell_type": "code",
   "execution_count": 108,
   "id": "1add3e09-2dda-408e-bb4d-63bd4afcb026",
   "metadata": {},
   "outputs": [],
   "source": [
    "class HumanWorker(Human):\n",
    "    \n",
    "    def work(self):\n",
    "        print('Я работаю')\n",
    "        \n",
    "    def walk(self, speed = 0.5):\n",
    "        print('Я иду загруженный со скоростью:', speed)\n",
    "\n",
    "    def run(self):\n",
    "        print('Я не могу бегать на складе')\n",
    "    \n"
   ]
  },
  {
   "cell_type": "code",
   "execution_count": 109,
   "id": "15d6d582-e3e0-4cfc-a03e-3591d6622934",
   "metadata": {},
   "outputs": [],
   "source": [
    "vova_worker1 = HumanWorker()"
   ]
  },
  {
   "cell_type": "code",
   "execution_count": 110,
   "id": "50104c61-754e-41b4-affb-98a4b1cbefe6",
   "metadata": {},
   "outputs": [
    {
     "name": "stdout",
     "output_type": "stream",
     "text": [
      "Я иду загруженный со скоростью: 0.5\n"
     ]
    }
   ],
   "source": [
    "vova_worker1.walk()"
   ]
  },
  {
   "cell_type": "code",
   "execution_count": 111,
   "id": "7b7db10a-fcf6-4c53-8ff3-b2c63d5e0a6e",
   "metadata": {},
   "outputs": [
    {
     "data": {
      "text/plain": [
       "100"
      ]
     },
     "execution_count": 111,
     "metadata": {},
     "output_type": "execute_result"
    }
   ],
   "source": [
    "vova_worker1.iq"
   ]
  },
  {
   "cell_type": "code",
   "execution_count": 112,
   "id": "179ffea6-f441-4b82-a27c-ecbd41bad06c",
   "metadata": {},
   "outputs": [
    {
     "name": "stdout",
     "output_type": "stream",
     "text": [
      "Я не могу бежать\n"
     ]
    }
   ],
   "source": [
    "vova_worker1.run()"
   ]
  },
  {
   "cell_type": "code",
   "execution_count": null,
   "id": "ec4c3ce9-9e8f-490f-ad84-bad8d340c22d",
   "metadata": {},
   "outputs": [],
   "source": []
  },
  {
   "cell_type": "code",
   "execution_count": null,
   "id": "9733b00a-cba4-4831-a221-d3f0877cb2ec",
   "metadata": {},
   "outputs": [],
   "source": []
  }
 ],
 "metadata": {
  "kernelspec": {
   "display_name": "Python 3 (ipykernel)",
   "language": "python",
   "name": "python3"
  },
  "language_info": {
   "codemirror_mode": {
    "name": "ipython",
    "version": 3
   },
   "file_extension": ".py",
   "mimetype": "text/x-python",
   "name": "python",
   "nbconvert_exporter": "python",
   "pygments_lexer": "ipython3",
   "version": "3.10.1"
  }
 },
 "nbformat": 4,
 "nbformat_minor": 5
}
