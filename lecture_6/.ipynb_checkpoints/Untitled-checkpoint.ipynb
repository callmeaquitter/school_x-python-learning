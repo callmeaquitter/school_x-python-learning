{
 "cells": [
  {
   "cell_type": "code",
   "execution_count": 11,
   "id": "92eed366-7935-4c6f-a664-2f513e2e6966",
   "metadata": {},
   "outputs": [],
   "source": [
    "class Character:\n",
    "    def __init__(\n",
    "        self, \n",
    "        trade: str | None = None,\n",
    "        wait: str | None = None, \n",
    "        think: str | None = None,\n",
    "        move: str | None = None\n",
    "    ):\n",
    "        self.trade = trade\n",
    "        self.wait = wait\n",
    "        self.think = think\n",
    "        self.move = move\n",
    "\n",
    "class Hero(Character):\n",
    "    def power(self, force: float | int = 450):\n",
    "         print('Моя сила:', force, 'урон, который я тебе нанесу:', force / 15)\n",
    "\n",
    "    def dexterity(self, flexibility: float | int = 50):\n",
    "         print('Моя ловкость:', flexibility, 'благодаря такой ловкости моя скорость:', flexibility * 3)\n",
    "\n",
    "    def intelligence(self, iq: float | int = 4):\n",
    "         if iq > 180:\n",
    "             print('Я одолею тебя с одного удара, ведь я знаю твои слабые стороны')\n",
    "         elif iq >= 90:\n",
    "             print('Я могу позвать свою команду, мы вместе тебя одолеем')\n",
    "         else:\n",
    "             print('Я на пенсии')\n",
    "\n",
    "class Villain(Character):\n",
    "    def power(self, damage: float | int = 450):\n",
    "         print('Моя сила:', damage, 'урон, который я тебе нанесу:', damage / 15)\n",
    "\n",
    "    def dexterity(self, speed: float | int = 50):\n",
    "         print('Моя ловкость:', flexibility, 'благодаря такой ловкости моя скорость:', speed * 3)\n",
    "\n",
    "    def intelligence(self, iq: float | int = 4):\n",
    "         if iq > 180:\n",
    "             print('Я одолею тебя с одного удара, мои знания в алхимии безграничны')\n",
    "         elif iq >= 90:\n",
    "             print('Я могу призвать своих воинов, мы вместе тебя одолеем')\n",
    "         else:\n",
    "             print('Я потерял свои костыли')\n",
    "\n",
    "class Vova(Hero):\n",
    "    def __init__(\n",
    "        self, \n",
    "        weight: float | int = 80,\n",
    "        height: float | int = 170, \n",
    "        name: str | None = None\n",
    "    ):\n",
    "        self.weight = weight\n",
    "        self.height = height\n",
    "        self.name = name\n",
    "        \n",
    "    \n",
    "        "
   ]
  },
  {
   "cell_type": "code",
   "execution_count": 12,
   "id": "625768a6-429e-4390-9ce5-92d12ce22d9d",
   "metadata": {},
   "outputs": [],
   "source": [
    "Vova1 = Hero()"
   ]
  },
  {
   "cell_type": "code",
   "execution_count": 14,
   "id": "11bbd565-ff9e-4778-94c5-3bb44ba31ba4",
   "metadata": {},
   "outputs": [
    {
     "name": "stdout",
     "output_type": "stream",
     "text": [
      "Моя сила: 450 урон, который я тебе нанесу: 30.0\n"
     ]
    }
   ],
   "source": [
    "Vova1.power()"
   ]
  },
  {
   "cell_type": "code",
   "execution_count": null,
   "id": "0402a4a6-b300-49a6-9147-82ac775b6dac",
   "metadata": {},
   "outputs": [],
   "source": []
  }
 ],
 "metadata": {
  "kernelspec": {
   "display_name": "Python 3 (ipykernel)",
   "language": "python",
   "name": "python3"
  },
  "language_info": {
   "codemirror_mode": {
    "name": "ipython",
    "version": 3
   },
   "file_extension": ".py",
   "mimetype": "text/x-python",
   "name": "python",
   "nbconvert_exporter": "python",
   "pygments_lexer": "ipython3",
   "version": "3.10.1"
  }
 },
 "nbformat": 4,
 "nbformat_minor": 5
}
