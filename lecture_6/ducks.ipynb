{
 "cells": [
  {
   "cell_type": "code",
   "execution_count": 71,
   "id": "2aed2650-5b10-4e42-8aee-dba41a75cab4",
   "metadata": {},
   "outputs": [],
   "source": [
    "class MixinFlyable:\n",
    "    def fly(self):\n",
    "        print('I fly')\n",
    "\n",
    "class MixinWalkable:\n",
    "    def walk(self):\n",
    "        print('I walk')\n",
    "\n",
    "class MixinSwimable:\n",
    "    def swim(self):\n",
    "        print('I swim')\n",
    "\n",
    "class MixinTalkable:\n",
    "    def make_noise(self):\n",
    "        print('Tweet')"
   ]
  },
  {
   "cell_type": "code",
   "execution_count": 72,
   "id": "229034fb-cdd6-479a-ae10-1a925105f4ef",
   "metadata": {},
   "outputs": [],
   "source": [
    "class BaseBird:\n",
    "    wings_length_cm: float = 12.5\n",
    "    legs_length_cm: float = 3.5\n",
    "    colour: str = 'red'\n",
    "        \n",
    "    def __init__(\n",
    "        self,\n",
    "        wings_length_cm: float = 12.5,\n",
    "        legs_length_cm: float = 3.5,\n",
    "        colour: str = 'red'\n",
    "    ):\n",
    "        self.wings_length: float = wings_length_cm\n",
    "        self.legs_length: float = legs_length_cm\n",
    "        self.colour: str = colour\n",
    "        print('BaseBird Initialized')\n",
    "        \n",
    "class Bird(\n",
    "    BaseBird,\n",
    "    MixinFlyable,\n",
    "    MixinWalkable,\n",
    "    MixinSwimable,\n",
    "    MixinTalkable\n",
    "):\n",
    "    pass\n",
    "\n",
    "class RubberToy:\n",
    "    toxic: bool = False\n",
    "    size_cm3: float = 12\n",
    "    colour: str = 'yellow'\n",
    "    \n",
    "    def __init__( \n",
    "        self,\n",
    "        toxic: bool = False,\n",
    "        size_cm3: float = 12,\n",
    "        colour: str = 'yellow'\n",
    "    ):\n",
    "        self.toxic: bool  = toxic\n",
    "        self.size_cm3: float = size_cm3\n",
    "        self.colour: str = colour\n",
    "        print('RubberToy Initialized')\n",
    "\n",
    "    def bounce(self):\n",
    "        print('plums')\n",
    "        \n",
    "    def deform(self):\n",
    "        print('morphing time')\n",
    "        \n",
    "    def make_noise(self):\n",
    "        print('peep')\n",
    "        "
   ]
  },
  {
   "cell_type": "code",
   "execution_count": 70,
   "id": "e4cadbb5-9e5c-4903-bf96-8af23bf774a6",
   "metadata": {},
   "outputs": [
    {
     "name": "stdout",
     "output_type": "stream",
     "text": [
      "BaseBird Initialized\n",
      "Tweet\n"
     ]
    }
   ],
   "source": [
    "bird1 = Bird()\n",
    "bird1.make_noise()"
   ]
  },
  {
   "cell_type": "code",
   "execution_count": 58,
   "id": "e5bf2384-6673-4771-80a9-c87dbeb68338",
   "metadata": {},
   "outputs": [
    {
     "name": "stdout",
     "output_type": "stream",
     "text": [
      "RubberToy Initialized\n",
      "peep\n"
     ]
    }
   ],
   "source": [
    "toy1 = RubberToy()\n",
    "toy1.make_noise()"
   ]
  },
  {
   "cell_type": "code",
   "execution_count": 60,
   "id": "7b9ea154-e6de-44e3-87ab-9fea851402a8",
   "metadata": {},
   "outputs": [],
   "source": [
    "class RubberBird(\n",
    "    RubberToy,\n",
    "    BaseBird,\n",
    "    MixinTalkable\n",
    "):\n",
    "    def make_noise(self):\n",
    "        print('peep')"
   ]
  },
  {
   "cell_type": "code",
   "execution_count": 61,
   "id": "199f3c2e-ca42-4493-bc13-cb4b1de12e4e",
   "metadata": {},
   "outputs": [
    {
     "name": "stdout",
     "output_type": "stream",
     "text": [
      "RubberToy Initialized\n"
     ]
    }
   ],
   "source": [
    "rub_bird1 = RubberBird()"
   ]
  },
  {
   "cell_type": "code",
   "execution_count": 64,
   "id": "cc98d67a-02ea-4736-a766-5284f69a5073",
   "metadata": {},
   "outputs": [
    {
     "data": {
      "text/plain": [
       "12.5"
      ]
     },
     "execution_count": 64,
     "metadata": {},
     "output_type": "execute_result"
    }
   ],
   "source": [
    "# rub_bird1.fly()\n",
    "rub_bird1.wings_length_cm"
   ]
  },
  {
   "cell_type": "code",
   "execution_count": 65,
   "id": "f9bc2763-2f1d-4355-b494-fb2b20545dcb",
   "metadata": {},
   "outputs": [
    {
     "name": "stdout",
     "output_type": "stream",
     "text": [
      "morphing time\n"
     ]
    }
   ],
   "source": [
    "rub_bird1.deform()"
   ]
  },
  {
   "cell_type": "code",
   "execution_count": 66,
   "id": "a0044c11-cb8a-4110-ba55-1dd6c54dfc10",
   "metadata": {},
   "outputs": [
    {
     "name": "stdout",
     "output_type": "stream",
     "text": [
      "peep\n"
     ]
    }
   ],
   "source": [
    "rub_bird1.make_noise()"
   ]
  },
  {
   "cell_type": "code",
   "execution_count": null,
   "id": "09dd2c9c-8bb3-415b-b5f0-b75487dd152b",
   "metadata": {},
   "outputs": [],
   "source": []
  }
 ],
 "metadata": {
  "kernelspec": {
   "display_name": "Python 3 (ipykernel)",
   "language": "python",
   "name": "python3"
  },
  "language_info": {
   "codemirror_mode": {
    "name": "ipython",
    "version": 3
   },
   "file_extension": ".py",
   "mimetype": "text/x-python",
   "name": "python",
   "nbconvert_exporter": "python",
   "pygments_lexer": "ipython3",
   "version": "3.10.1"
  }
 },
 "nbformat": 4,
 "nbformat_minor": 5
}
