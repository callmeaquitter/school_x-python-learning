{
 "cells": [
  {
   "cell_type": "code",
   "execution_count": 3,
   "metadata": {},
   "outputs": [],
   "source": [
    "import nltk\n",
    "from nltk.tokenize import RegexpTokenizer\n",
    "from nltk.corpus import stopwords\n",
    "from nltk.stem import WordNetLemmatizer\n",
    "\n",
    "# Загрузка списка книг\n",
    "list_of_books = [\"Nazad_k_Mafusailu.txt\",\"Mayor_Barbara.txt\",\"Uchenik_dyavola.txt\",\"Telezhka_s_yablokami.txt\",\"Dom_gde_razbivautsa_serdza.txt\",\"Pigmalion.txt\"]\n",
    "\n",
    "# Инициализация инструментов для обработки текста\n",
    "tokenizer = RegexpTokenizer(r'\\w+')\n",
    "stop_words = set(stopwords.words('russian'))\n",
    "lemmatizer = WordNetLemmatizer()\n",
    "\n",
    "# Обработка каждой книги\n",
    "for name in list_of_books:\n",
    "    # Загрузка текста книги\n",
    "    with open('C:\\\\Users\\\\User\\\\Downloads\\\\' + name, 'r', encoding='utf-8', errors='ignore') as file:\n",
    "        text = file.read()\n",
    "\n",
    "    # Токенизация текста\n",
    "    tokens = tokenizer.tokenize(text.lower())\n",
    "\n",
    "    # Удаление стоп-слов\n",
    "    filtered_tokens = [token for token in tokens if token not in stop_words]\n",
    "\n",
    "    # Лемматизация токенов\n",
    "    lemmatized_tokens = [lemmatizer.lemmatize(token) for token in filtered_tokens]\n",
    "\n",
    "    # Подсчет статистики\n",
    "    unique_tokens = set(lemmatized_tokens)\n",
    "    lexical_diversity = len(unique_tokens) / len(lemmatized_tokens)\n",
    "    top_words = sorted(unique_tokens, key=lambda x: lemmatized_tokens.count(x), reverse=True)[:3]\n",
    "\n",
    "    # Запись результатов в файл\n",
    "    with open(name + '_out', 'w', encoding='utf-8') as file:\n",
    "        file.write(f'Lexical diversity: {lexical_diversity:.3f}\\n')\n",
    "        file.write('Top-3 words:\\n')\n",
    "        for word in top_words:\n",
    "            file.write(f'\\t{word}\\n')\n"
   ]
  },
  {
   "cell_type": "code",
   "execution_count": null,
   "metadata": {},
   "outputs": [],
   "source": []
  }
 ],
 "metadata": {
  "kernelspec": {
   "display_name": "Python 3",
   "language": "python",
   "name": "python3"
  },
  "language_info": {
   "codemirror_mode": {
    "name": "ipython",
    "version": 3
   },
   "file_extension": ".py",
   "mimetype": "text/x-python",
   "name": "python",
   "nbconvert_exporter": "python",
   "pygments_lexer": "ipython3",
   "version": "3.10.1"
  }
 },
 "nbformat": 4,
 "nbformat_minor": 2
}
