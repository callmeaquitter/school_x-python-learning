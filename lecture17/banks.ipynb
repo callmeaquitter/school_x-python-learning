{
 "cells": [
  {
   "cell_type": "code",
   "execution_count": 3,
   "metadata": {},
   "outputs": [],
   "source": [
    "import spacy\n",
    "import numpy as np\n",
    "import pandas as pd\n",
    "from nltk import word_tokenize\n",
    "\n",
    "nlp = spacy.load('ru_core_news_sm')\n",
    "from nltk.corpus import stopwords\n",
    "from sklearn.model_selection import train_test_split"
   ]
  },
  {
   "cell_type": "code",
   "execution_count": 4,
   "metadata": {},
   "outputs": [],
   "source": [
    "bank_data = pd.read_csv('banks.csv',sep =\"\\t\")\n",
    "bank_data.head()\n",
    "\n",
    "\n",
    "\n",
    "X_train, X_test, y_train, y_test = train_test_split(bank_data['Text'], bank_data['Score'],test_size = 0.5, random_state=35)\n",
    "\n",
    "def tokenize_text(text):\n",
    "    doc = nlp(text) \n",
    "    tokens = [token.text for token in doc if not token.is_stop and not token.is_punct]\n",
    "    return(tokens)\n",
    "\n",
    "bank_data2 = pd.DataFrame({'text':X_train, 'tokenizer_text': X_train.apply(tokenize_text)})\n",
    "bank_data2\n",
    "\n",
    "\n",
    "\n",
    "bank_data2.head()\n",
    "\n",
    "from sklearn.preprocessing import LabelEncoder\n",
    "\n",
    "\n",
    "label_encoder = LabelEncoder()\n",
    "bank_data['Score'] = bank_data['Score'].apply(lambda x: 1 if x == 'Positive' else 0)"
   ]
  },
  {
   "cell_type": "code",
   "execution_count": 5,
   "metadata": {},
   "outputs": [],
   "source": [
    "import pandas as pd\n",
    "import spacy\n",
    "from sklearn.preprocessing import LabelEncoder\n",
    "from sklearn.feature_extraction.text import TfidfVectorizer\n",
    "from sklearn.metrics import accuracy_score\n",
    "from sklearn.svm import SVC\n"
   ]
  },
  {
   "cell_type": "code",
   "execution_count": 6,
   "metadata": {},
   "outputs": [
    {
     "name": "stderr",
     "output_type": "stream",
     "text": [
      "c:\\Users\\User\\AppData\\Local\\Programs\\Python\\Python310\\lib\\site-packages\\sklearn\\utils\\validation.py:605: FutureWarning: is_sparse is deprecated and will be removed in a future version. Check `isinstance(dtype, pd.SparseDtype)` instead.\n",
      "  if is_sparse(pd_dtype):\n",
      "c:\\Users\\User\\AppData\\Local\\Programs\\Python\\Python310\\lib\\site-packages\\sklearn\\utils\\validation.py:614: FutureWarning: is_sparse is deprecated and will be removed in a future version. Check `isinstance(dtype, pd.SparseDtype)` instead.\n",
      "  if is_sparse(pd_dtype) or not is_extension_array_dtype(pd_dtype):\n"
     ]
    },
    {
     "name": "stdout",
     "output_type": "stream",
     "text": [
      "Предложение: Хорошие консультанты и  выгодные предложения мы берем ипотеку.\n",
      "Классификация: Positive\n",
      "\n",
      "Предложение: Банк плохой консультанты грубили мне я отказываюсь от ипотеки.\n",
      "Классификация: Negative\n",
      "\n",
      "Точность модели: 0.9469924274896414\n"
     ]
    },
    {
     "name": "stderr",
     "output_type": "stream",
     "text": [
      "c:\\Users\\User\\AppData\\Local\\Programs\\Python\\Python310\\lib\\site-packages\\sklearn\\utils\\validation.py:605: FutureWarning: is_sparse is deprecated and will be removed in a future version. Check `isinstance(dtype, pd.SparseDtype)` instead.\n",
      "  if is_sparse(pd_dtype):\n",
      "c:\\Users\\User\\AppData\\Local\\Programs\\Python\\Python310\\lib\\site-packages\\sklearn\\utils\\validation.py:614: FutureWarning: is_sparse is deprecated and will be removed in a future version. Check `isinstance(dtype, pd.SparseDtype)` instead.\n",
      "  if is_sparse(pd_dtype) or not is_extension_array_dtype(pd_dtype):\n",
      "c:\\Users\\User\\AppData\\Local\\Programs\\Python\\Python310\\lib\\site-packages\\sklearn\\utils\\validation.py:605: FutureWarning: is_sparse is deprecated and will be removed in a future version. Check `isinstance(dtype, pd.SparseDtype)` instead.\n",
      "  if is_sparse(pd_dtype):\n",
      "c:\\Users\\User\\AppData\\Local\\Programs\\Python\\Python310\\lib\\site-packages\\sklearn\\utils\\validation.py:614: FutureWarning: is_sparse is deprecated and will be removed in a future version. Check `isinstance(dtype, pd.SparseDtype)` instead.\n",
      "  if is_sparse(pd_dtype) or not is_extension_array_dtype(pd_dtype):\n",
      "c:\\Users\\User\\AppData\\Local\\Programs\\Python\\Python310\\lib\\site-packages\\sklearn\\utils\\validation.py:605: FutureWarning: is_sparse is deprecated and will be removed in a future version. Check `isinstance(dtype, pd.SparseDtype)` instead.\n",
      "  if is_sparse(pd_dtype):\n",
      "c:\\Users\\User\\AppData\\Local\\Programs\\Python\\Python310\\lib\\site-packages\\sklearn\\utils\\validation.py:614: FutureWarning: is_sparse is deprecated and will be removed in a future version. Check `isinstance(dtype, pd.SparseDtype)` instead.\n",
      "  if is_sparse(pd_dtype) or not is_extension_array_dtype(pd_dtype):\n"
     ]
    }
   ],
   "source": [
    "X_train, X_test, y_train, y_test = train_test_split(bank_data['Text'], bank_data['Score'], test_size=0.5, random_state=35)\n",
    "\n",
    "vectorizer = TfidfVectorizer()\n",
    "x_train_vectorized = vectorizer.fit_transform(X_train.apply(tokenize_text).apply(lambda x: ' '.join(x)))\n",
    "\n",
    "\n",
    "support_vector_machine_model = SVC()\n",
    "support_vector_machine_model.fit(x_train_vectorized, y_train)\n",
    "\n",
    "\n",
    "bank_new_sentences = [\n",
    "    \"Хорошие консультанты и  выгодные предложения мы берем ипотеку.\",\n",
    "    \"Банк плохой консультанты грубили мне я отказываюсь от ипотеки.\"\n",
    "]\n",
    "\n",
    "bank_new_sentences_vectorized = vectorizer.transform(pd.Series(bank_new_sentences).apply(tokenize_text).apply(lambda x: ' '.join(x)))\n",
    "svm_predictions = support_vector_machine_model.predict(bank_new_sentences_vectorized)\n",
    "\n",
    "for sentence, prediction in zip(bank_new_sentences, svm_predictions):\n",
    "    if prediction == 1:\n",
    "        print(f\"Sentence: {sentence}\\nКлассификация: Positive\")\n",
    "    else:\n",
    "        print(f\"Sentence: {sentence}\\nКлассификация: Negative\")\n",
    "\n",
    "x_test_vectorized = vectorizer.transform(X_test)\n",
    "svm_predictions = support_vector_machine_model.predict(x_test_vectorized)\n",
    "svm_model_accuracy = accuracy_score(y_test, svm_predictions)\n",
    "print(f\"Accuracy: {svm_model_accuracy}\")"
   ]
  },
  {
   "cell_type": "code",
   "execution_count": 7,
   "metadata": {},
   "outputs": [
    {
     "ename": "ModuleNotFoundError",
     "evalue": "No module named 'tensorflow'",
     "output_type": "error",
     "traceback": [
      "\u001b[1;31m---------------------------------------------------------------------------\u001b[0m",
      "\u001b[1;31mModuleNotFoundError\u001b[0m                       Traceback (most recent call last)",
      "\u001b[1;32md:\\Документики\\intensive\\lecture17\\banks.ipynb Cell 5\u001b[0m line \u001b[0;36m1\n\u001b[1;32m----> <a href='vscode-notebook-cell:/d%3A/%D0%94%D0%BE%D0%BA%D1%83%D0%BC%D0%B5%D0%BD%D1%82%D0%B8%D0%BA%D0%B8/intensive/lecture17/banks.ipynb#W0sZmlsZQ%3D%3D?line=0'>1</a>\u001b[0m \u001b[39mimport\u001b[39;00m \u001b[39mtensorflow\u001b[39;00m \u001b[39mas\u001b[39;00m \u001b[39mtf\u001b[39;00m\n\u001b[0;32m      <a href='vscode-notebook-cell:/d%3A/%D0%94%D0%BE%D0%BA%D1%83%D0%BC%D0%B5%D0%BD%D1%82%D0%B8%D0%BA%D0%B8/intensive/lecture17/banks.ipynb#W0sZmlsZQ%3D%3D?line=1'>2</a>\u001b[0m \u001b[39mfrom\u001b[39;00m \u001b[39mtensorflow\u001b[39;00m\u001b[39m.\u001b[39;00m\u001b[39mkeras\u001b[39;00m\u001b[39m.\u001b[39;00m\u001b[39mpreprocessing\u001b[39;00m\u001b[39m.\u001b[39;00m\u001b[39mtext\u001b[39;00m \u001b[39mimport\u001b[39;00m Tokenizer\n\u001b[0;32m      <a href='vscode-notebook-cell:/d%3A/%D0%94%D0%BE%D0%BA%D1%83%D0%BC%D0%B5%D0%BD%D1%82%D0%B8%D0%BA%D0%B8/intensive/lecture17/banks.ipynb#W0sZmlsZQ%3D%3D?line=2'>3</a>\u001b[0m \u001b[39mfrom\u001b[39;00m \u001b[39mtensorflow\u001b[39;00m\u001b[39m.\u001b[39;00m\u001b[39mkeras\u001b[39;00m\u001b[39m.\u001b[39;00m\u001b[39mpreprocessing\u001b[39;00m\u001b[39m.\u001b[39;00m\u001b[39msequence\u001b[39;00m \u001b[39mimport\u001b[39;00m pad_sequences\n",
      "\u001b[1;31mModuleNotFoundError\u001b[0m: No module named 'tensorflow'"
     ]
    }
   ],
   "source": [
    "import tensorflow as tf\n",
    "from tensorflow.keras.preprocessing.text import Tokenizer\n",
    "from tensorflow.keras.preprocessing.sequence import pad_sequences\n",
    "from sklearn.model_selection import train_test_split\n",
    "\n",
    "\n",
    "\n",
    "X_train, X_test, y_train, y_test = train_test_split(bank_data['Text'], bank_data['Score'], test_size=0.5, random_state=35)\n",
    "\n",
    "tokenizer = Tokenizer()\n",
    "tokenizer.fit_on_texts(X_train)\n",
    "X_train_tokenized = tokenizer.texts_to_sequences(X_train)\n",
    "X_test_tokenized = tokenizer.texts_to_sequences(X_test)\n",
    "\n",
    "X_train_padded = pad_sequences(X_train_tokenized)\n",
    "X_test_padded = pad_sequences(X_test_tokenized, maxlen=X_train_padded.shape[1])\n",
    "\n",
    "label_encoder = LabelEncoder()\n",
    "y_train_encoded = label_encoder.fit_transform(y_train)\n",
    "y_test_encoded = label_encoder.transform(y_test)\n",
    "\n",
    "model = tf.keras.Sequential([\n",
    "    tf.keras.layers.Embedding(len(tokenizer.word_index)+1, 100, input_length=X_train_padded.shape[1]),\n",
    "    tf.keras.layers.Conv1D(128, 5, activation='relu'),\n",
    "    tf.keras.layers.GlobalMaxPooling1D(),\n",
    "    tf.keras.layers.Dense(1, activation='sigmoid')\n",
    "])\n",
    "model.compile(loss='binary_crossentropy', optimizer='adam', metrics=['accuracy'])\n",
    "\n",
    "model.fit(X_train_padded, y_train_encoded, epochs=5, batch_size=32)\n",
    "\n",
    "bank_new_sentences = [\n",
    "    \"Хорошие консультанты и  выгодные предложения мы берем ипотеку.\",\n",
    "    \"Банк плохой консультанты грубили мне я отказываюсь от ипотеки.\"\n",
    "]\n",
    "\n",
    "bank_new_sentences_vectorized = vectorizer.transform(pd.Series(bank_new_sentences).apply(tokenize_text).apply(lambda x: ' '.join(x)))\n",
    "svm_predictions = support_vector_machine_model.predict(bank_new_sentences_vectorized)\n",
    "\n",
    "for sentence, prediction in zip(bank_new_sentences, svm_predictions):\n",
    "    if prediction == 1:\n",
    "        print(f\"Sentence: {sentence}\\nКлассификация: Positive\")\n",
    "    else:\n",
    "        print(f\"Sentence: {sentence}\\nКлассификация: Negative\")\n",
    "_, accuracy = model.evaluate(X_test_padded, y_test_encoded)\n",
    "print('Accuracy: %.2f' % (accuracy * 100))"
   ]
  }
 ],
 "metadata": {
  "kernelspec": {
   "display_name": "Python 3",
   "language": "python",
   "name": "python3"
  },
  "language_info": {
   "codemirror_mode": {
    "name": "ipython",
    "version": 3
   },
   "file_extension": ".py",
   "mimetype": "text/x-python",
   "name": "python",
   "nbconvert_exporter": "python",
   "pygments_lexer": "ipython3",
   "version": "3.12.0"
  }
 },
 "nbformat": 4,
 "nbformat_minor": 2
}
