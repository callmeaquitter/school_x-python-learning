{
 "cells": [
  {
   "cell_type": "code",
   "execution_count": 4,
   "metadata": {},
   "outputs": [
    {
     "name": "stdout",
     "output_type": "stream",
     "text": [
      "Note: you may need to restart the kernel to use updated packages.\n"
     ]
    },
    {
     "name": "stderr",
     "output_type": "stream",
     "text": [
      "ERROR: Could not find a version that satisfies the requirement torch (from versions: none)\n",
      "ERROR: No matching distribution found for torch\n",
      "\n",
      "[notice] A new release of pip is available: 23.2.1 -> 23.3.2\n",
      "[notice] To update, run: python.exe -m pip install --upgrade pip\n"
     ]
    }
   ],
   "source": [
    "%pip install torch"
   ]
  },
  {
   "cell_type": "code",
   "execution_count": 1,
   "metadata": {},
   "outputs": [],
   "source": [
    "import numpy as np\n",
    "from sklearn.feature_extraction.text import TfidfVectorizer\n",
    "from sklearn.metrics.pairwise import cosine_similarity\n",
    "import pandas as pd"
   ]
  },
  {
   "cell_type": "code",
   "execution_count": 2,
   "metadata": {},
   "outputs": [
    {
     "data": {
      "text/plain": [
       "['Какие качества нравятся в человеке?',\n",
       " 'Любимый алкогольный напиток?',\n",
       " 'Лучше все просчитывать или импровизировать?',\n",
       " 'Какая твоя самая любимая вещь?',\n",
       " 'Есть ли у тебя фобии?',\n",
       " 'Твой самый эпичный промах в жизни?',\n",
       " 'Какой твой любимый фильм и почему? ',\n",
       " 'Какой твой любимый сериал и почему? ',\n",
       " 'Какой твой любимый жанр музыки и почему? ',\n",
       " 'Какой твой любимый писатель?',\n",
       " 'Как хотел (-а) бы изменить мир?',\n",
       " 'В чем не хочешь себе признаваться?',\n",
       " 'Самая любимая игра?',\n",
       " 'Твоя любимая песня и группа сейчас?',\n",
       " 'Чего больше всего боишься в жизни?',\n",
       " 'Кто из нас лучше одевается?',\n",
       " 'Какая у тебя любимая одежда?',\n",
       " 'Кем мечтал (-а) быть в детстве?',\n",
       " 'Что вкуснее: кофе или чай?',\n",
       " 'О чем можешь говорить часами?',\n",
       " 'Что хочешь сделать сумасшедшего?',\n",
       " 'Чем любишь заниматься в любимое время?',\n",
       " 'Какая у тебя причина вставать по утрам?',\n",
       " 'На кого ты похож?',\n",
       " 'Ты больше любишь зиму или лето?',\n",
       " 'Что до сих пор вызывает страх?',\n",
       " 'Что больше всего раздражает?',\n",
       " 'Любимый персонаж из мультфильма?',\n",
       " 'Чему хочешь научиться больше всего?',\n",
       " ' Чем хочешь заняться прямо сейчас?',\n",
       " 'Самое лучшее ругательство?',\n",
       " 'Почему мы с тобой дружим?',\n",
       " 'Любимый цвет в одежде?',\n",
       " 'Какие у нас планы на отпуск?',\n",
       " 'Ты предпочитаешь искусственную елку или настоящую?',\n",
       " 'Где не был, но хочешь побывать?',\n",
       " 'Как относишься к своему здоровью?',\n",
       " 'О чем мы чаще всего спорим?',\n",
       " 'Какие у тебя любимые цветы?',\n",
       " 'В какие чудеса еще веришь?',\n",
       " 'Есть ли у тебя собака?']"
      ]
     },
     "execution_count": 2,
     "metadata": {},
     "output_type": "execute_result"
    }
   ],
   "source": [
    "data = pd.read_csv(\"Datasetik.csv\")\n",
    "questions = data[\"Question\"].tolist()\n",
    "answers = data[\"Answer\"].tolist()\n",
    "\n",
    "vectorizer = TfidfVectorizer()\n",
    "tfidf_matrix = vectorizer.fit_transform(questions)\n",
    "questions"
   ]
  },
  {
   "cell_type": "code",
   "execution_count": 2,
   "metadata": {},
   "outputs": [],
   "source": [
    "def get_best_answer(user_question):\n",
    "       user_question_tfidf = vectorizer.transform([user_question])\n",
    "       similarities = cosine_similarity(user_question_tfidf, tfidf_matrix)\n",
    "       best_index = np.argmax(similarities)\n",
    "       return answers[best_index]"
   ]
  },
  {
   "cell_type": "code",
   "execution_count": 4,
   "metadata": {},
   "outputs": [],
   "source": [
    "while True:\n",
    "    user_input = input(\"Enter your request (to exit, write 'stop'): \")\n",
    "    best_answer = get_best_answer(user_input)\n",
    "    print(best_answer)\n",
    "    if user_input.lower() == 'stop':\n",
    "        break"
   ]
  },
  {
   "cell_type": "code",
   "execution_count": null,
   "metadata": {},
   "outputs": [],
   "source": [
    "import torch\n",
    "import torch.nn as nn\n",
    "import torch.optim as optim\n",
    "import nltk\n",
    "import spacy\n",
    "nltk.download('stopwords')\n",
    "from nltk.corpus import stopwords\n",
    "import pymorphy2\n",
    "\n",
    "def preprocess_input(user_input):\n",
    "    nlp = spacy.load(\"ru_core_news_sm\")\n",
    "    stopwords_ru = stopwords.words('russian')\n",
    "    morph = pymorphy2.MorphAnalyzer()\n",
    "\n",
    "    \n",
    "    result = [morph.parse(token.text.lower())[0].normal_form for token in nlp(user_input) if not token.is_punct and token.text.lower() not in stopwords_ru]\n",
    "        \n",
    "        \n",
    "\n",
    "    return result\n",
    "\n",
    "def vectorize_input(processed_input):\n",
    "    from transformers import BertTokenizer, BertForSequenceClassification\n",
    "    model_name = 'DeepPavlov/rubert-base-cased'\n",
    "    tokenizer = BertTokenizer.from_pretrained(model_name)\n",
    "    \n",
    "    result = tokenizer.encode_plus(processed_input)['input_ids']\n",
    "\n",
    "    return result\n",
    "\n",
    "\n",
    "def postprocess_output(output_tensor):\n",
    "    \n",
    "    labels = answers[:]\n",
    "    \n",
    "    _, predicted_index = torch.max(output_tensor, dim=1)\n",
    "   \n",
    "    output_label = labels[predicted_index.item()]\n",
    "    return output_label\n",
    "\n",
    "class Transformer(nn.Module):\n",
    "    def __init__(self, input_dim, hidden_dim, output_dim, num_layers, num_heads, dropout):\n",
    "        super(Transformer, self).__init__()\n",
    "        self.encoder = nn.TransformerEncoder(\n",
    "            nn.TransformerEncoderLayer(input_dim, num_heads, hidden_dim, dropout),\n",
    "            num_layers)\n",
    "        self.linear = nn.Linear(hidden_dim, output_dim)\n",
    "        \n",
    "    def forward(self, x):\n",
    "        x = self.encoder(x)\n",
    "        x = self.linear(x)\n",
    "        return x\n",
    "\n",
    "\n",
    "num_epochs = 3 \n",
    "batch_size = 1 \n",
    "\n",
    "\n",
    "user_input = input(\"Enter your request: \")\n",
    "\n",
    "\n",
    "processed_input = preprocess_input(user_input)\n",
    "vectorized_input = vectorize_input(processed_input)\n",
    "\n",
    "\n",
    "input_tensor = torch.tensor(vectorized_input).unsqueeze(0)\n",
    "from math import ceil\n",
    "\n",
    "input_dim = len(vectorized_input) \n",
    "hidden_dim = len(vectorized_input) \n",
    "output_dim = len(vectorized_input)\n",
    "num_layers = 4 \n",
    "num_heads = 1\n",
    "dropout = 0.2 \n",
    "\n",
    "\n",
    "model = Transformer(input_dim, hidden_dim, output_dim, num_layers, num_heads, dropout)\n",
    "\n",
    "\n",
    "criterion = nn.CrossEntropyLoss()\n",
    "optimizer = optim.Adam(model.parameters(), lr=0.001)\n",
    "\n",
    "for epoch in range(num_epochs):\n",
    "    running_loss = 0.0\n",
    "    \n",
    "    \n",
    "    input_tensor = torch.tensor(vectorized_input, dtype=torch.float).unsqueeze(0)\n",
    "    output_tensor = model(input_tensor)\n",
    "    \n",
    "    optimizer.zero_grad()  \n",
    "   \n",
    "    output = postprocess_output(output_tensor)\n",
    "\n",
    "    print(\"Answer: \", output)"
   ]
  }
 ],
 "metadata": {
  "kernelspec": {
   "display_name": "Python 3",
   "language": "python",
   "name": "python3"
  },
  "language_info": {
   "codemirror_mode": {
    "name": "ipython",
    "version": 3
   },
   "file_extension": ".py",
   "mimetype": "text/x-python",
   "name": "python",
   "nbconvert_exporter": "python",
   "pygments_lexer": "ipython3",
   "version": "3.12.0"
  }
 },
 "nbformat": 4,
 "nbformat_minor": 2
}
