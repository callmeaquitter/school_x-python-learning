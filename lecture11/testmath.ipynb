{
 "cells": [
  {
   "cell_type": "code",
   "execution_count": null,
   "metadata": {},
   "outputs": [],
   "source": [
    "class Matrix:\n",
    "    def init(self, matrix):\n",
    "        self.matrix = matrix\n",
    "\n",
    "    def gram_schmidt(self):\n",
    "        basis = []\n",
    "        for i in range(len(self.matrix)):\n",
    "            vector = self.matrix[i]\n",
    "            for j in range(len(basis)):\n",
    "                projection = sum(vector * basis[j]) / sum(basis[j] * basis[j]) * basis[j]\n",
    "                vector = vector - projection\n",
    "            if sum(vector * vector) > 1e-10:\n",
    "                basis.append(vector)\n",
    "        for i in range(len(basis)):\n",
    "            basis[i] = basis[i] / (sum(basis[i] * basis[i]) ** 0.5)\n",
    "        return basis"
   ]
  }
 ],
 "metadata": {
  "language_info": {
   "name": "python"
  },
  "orig_nbformat": 4
 },
 "nbformat": 4,
 "nbformat_minor": 2
}
