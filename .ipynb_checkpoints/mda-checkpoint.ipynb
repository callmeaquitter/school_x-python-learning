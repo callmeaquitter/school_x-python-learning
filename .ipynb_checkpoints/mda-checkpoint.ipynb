{
 "cells": [
  {
   "cell_type": "code",
   "execution_count": 16,
   "metadata": {},
   "outputs": [],
   "source": [
    "class MosquitosCloud:\n",
    "    def __init__(\n",
    "        self, \n",
    "        damage_per_mosquito: float = 1.7,\n",
    "        mosquitoes_in_cloud: int = 5\n",
    "    ):\n",
    "        if damage_per_mosquito is not None and mosquitoes_in_cloud is not None:\n",
    "            self.damage_per_mosquito = damage_per_mosquito\n",
    "            self.mosquitoes_in_cloud = mosquitoes_in_cloud\n",
    "            self.damage = damage_per_mosquito * mosquitoes_in_cloud\n",
    "        else:\n",
    "            raise ValueError('Please provide correct variables')\n",
    "        \n",
    "    def __add__(self: 'MosquitosCloud', other: 'MosquitosCloud') -> 'MosquitosCloud':\n",
    "        new_mosquitoes_cloud = MosquitosCloud(\n",
    "            damage_per_mosquito = (self.damage_per_mosquito + other.damage_per_mosquito) / 2,\n",
    "            mosquitoes_in_cloud = self.mosquitoes_in_cloud + other.mosquitoes_in_cloud,\n",
    "        )\n",
    "        return new_mosquitoes_cloud"
   ]
  },
  {
   "cell_type": "code",
   "execution_count": 17,
   "metadata": {},
   "outputs": [
    {
     "data": {
      "text/plain": [
       "8.5"
      ]
     },
     "execution_count": 17,
     "metadata": {},
     "output_type": "execute_result"
    }
   ],
   "source": [
    "mcloud1 = MosquitosCloud()\n",
    "mcloud1.damage"
   ]
  },
  {
   "cell_type": "code",
   "execution_count": 20,
   "metadata": {},
   "outputs": [
    {
     "ename": "SyntaxError",
     "evalue": "invalid syntax (544856121.py, line 3)",
     "output_type": "error",
     "traceback": [
      "\u001b[1;36m  Cell \u001b[1;32mIn[20], line 3\u001b[1;36m\u001b[0m\n\u001b[1;33m    MosquitosCloud = 10\u001b[0m\n\u001b[1;37m    ^\u001b[0m\n\u001b[1;31mSyntaxError\u001b[0m\u001b[1;31m:\u001b[0m invalid syntax\n"
     ]
    }
   ],
   "source": [
    "mcloud2 = MosquitosCloud(\n",
    "    mosquitoes_in_cloud = 2.0\n",
    "    MosquitosCloud = 10\n",
    ")\n",
    "mcloud2.damage"
   ]
  },
  {
   "cell_type": "code",
   "execution_count": 19,
   "metadata": {},
   "outputs": [],
   "source": [
    "mcloud3 = mcloud1 + mcloud2"
   ]
  },
  {
   "cell_type": "code",
   "execution_count": 22,
   "metadata": {},
   "outputs": [
    {
     "name": "stdout",
     "output_type": "stream",
     "text": [
      "Note: you may need to restart the kernel to use updated packages.\n"
     ]
    },
    {
     "name": "stderr",
     "output_type": "stream",
     "text": [
      "WARNING: You are using pip version 21.2.3; however, version 23.2.1 is available.\n",
      "You should consider upgrading via the 'c:\\Program Files (x86)\\Microsoft Visual Studio\\Shared\\Python39_64\\python.exe -m pip install --upgrade pip' command.\n"
     ]
    }
   ],
   "source": [
    "%pip install -Uq numpy"
   ]
  },
  {
   "cell_type": "code",
   "execution_count": 23,
   "metadata": {},
   "outputs": [],
   "source": [
    "import numpy as np"
   ]
  },
  {
   "cell_type": "code",
   "execution_count": 24,
   "metadata": {},
   "outputs": [],
   "source": [
    "matrix1 = np.array([\n",
    "    [1, 1, 1],\n",
    "    [1, 2, 3],\n",
    "    [11, 12, 12],\n",
    "    [2, 1, 45]\n",
    "])"
   ]
  },
  {
   "cell_type": "code",
   "execution_count": 25,
   "metadata": {},
   "outputs": [],
   "source": [
    "matrix2 = np.array([\n",
    "    [4, 5, 6],\n",
    "    [7, 8, 9],\n",
    "    [77, 12, 12],\n",
    "    [2, 1, 45]\n",
    "])"
   ]
  },
  {
   "cell_type": "code",
   "execution_count": 30,
   "metadata": {},
   "outputs": [
    {
     "data": {
      "text/plain": [
       "array([[ 5,  6,  7],\n",
       "       [ 8, 10, 12],\n",
       "       [88, 24, 24],\n",
       "       [ 4,  2, 90]])"
      ]
     },
     "execution_count": 30,
     "metadata": {},
     "output_type": "execute_result"
    }
   ],
   "source": [
    "matrix1 + matrix2"
   ]
  },
  {
   "cell_type": "code",
   "execution_count": 28,
   "metadata": {},
   "outputs": [
    {
     "data": {
      "text/plain": [
       "array([[ 3,  4,  5],\n",
       "       [ 6,  6,  6],\n",
       "       [66,  0,  0],\n",
       "       [ 0,  0,  0]])"
      ]
     },
     "execution_count": 28,
     "metadata": {},
     "output_type": "execute_result"
    }
   ],
   "source": [
    "matrix2 - matrix1"
   ]
  },
  {
   "cell_type": "code",
   "execution_count": 29,
   "metadata": {},
   "outputs": [
    {
     "ename": "ValueError",
     "evalue": "matmul: Input operand 1 has a mismatch in its core dimension 0, with gufunc signature (n?,k),(k,m?)->(n?,m?) (size 4 is different from 3)",
     "output_type": "error",
     "traceback": [
      "\u001b[1;31m---------------------------------------------------------------------------\u001b[0m",
      "\u001b[1;31mValueError\u001b[0m                                Traceback (most recent call last)",
      "\u001b[1;32md:\\Документики\\intensive\\lecture7\\mda.ipynb Cell 11\u001b[0m line \u001b[0;36m1\n\u001b[1;32m----> <a href='vscode-notebook-cell:/d%3A/%D0%94%D0%BE%D0%BA%D1%83%D0%BC%D0%B5%D0%BD%D1%82%D0%B8%D0%BA%D0%B8/intensive/lecture7/mda.ipynb#X15sZmlsZQ%3D%3D?line=0'>1</a>\u001b[0m matrix1 \u001b[39m@\u001b[39;49m matrix2\n",
      "\u001b[1;31mValueError\u001b[0m: matmul: Input operand 1 has a mismatch in its core dimension 0, with gufunc signature (n?,k),(k,m?)->(n?,m?) (size 4 is different from 3)"
     ]
    }
   ],
   "source": [
    "list(matrix)"
   ]
  },
  {
   "cell_type": "code",
   "execution_count": 31,
   "metadata": {},
   "outputs": [],
   "source": [
    "class Matrix:\n",
    "    matrix = []\n",
    "\n",
    "def test_all(matrix1: Matrix, matrix2: Matrix):\n",
    "    assert (\n",
    "        [[1, 1, 1],\n",
    "        [1, 2, 3],\n",
    "        [11, 12, 12],\n",
    "        [2, 1, 45],]\n",
    "        +\n",
    "        [[4, 5, 6],\n",
    "        [7, 8, 9],\n",
    "        [77, 12, 12],\n",
    "        [2, 1, 45],]\n",
    "        ==\n",
    "        [[ 5,  6,  7],\n",
    "        [ 8, 10, 12],\n",
    "        [88, 24, 24],\n",
    "        [ 4,  2, 90]]\n",
    "    )\n",
    "    "
   ]
  },
  {
   "cell_type": "code",
   "execution_count": null,
   "metadata": {},
   "outputs": [],
   "source": []
  }
 ],
 "metadata": {
  "kernelspec": {
   "display_name": "Python 3",
   "language": "python",
   "name": "python3"
  },
  "language_info": {
   "codemirror_mode": {
    "name": "ipython",
    "version": 3
   },
   "file_extension": ".py",
   "mimetype": "text/x-python",
   "name": "python",
   "nbconvert_exporter": "python",
   "pygments_lexer": "ipython3",
   "version": "3.9.7"
  },
  "orig_nbformat": 4
 },
 "nbformat": 4,
 "nbformat_minor": 2
}
