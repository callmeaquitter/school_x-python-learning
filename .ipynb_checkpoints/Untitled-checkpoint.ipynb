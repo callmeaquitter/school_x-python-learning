{
 "cells": [
  {
   "cell_type": "code",
   "execution_count": 2,
   "id": "a00592d7-c0f3-4fdc-bc15-5876e21db8be",
   "metadata": {},
   "outputs": [
    {
     "name": "stdout",
     "output_type": "stream",
     "text": [
      "hello, jupyter\n"
     ]
    }
   ],
   "source": [
    "print(\"hello, jupyter\")"
   ]
  },
  {
   "cell_type": "code",
   "execution_count": 3,
   "id": "cbde791f-5492-4380-94f0-9afaa234cac9",
   "metadata": {},
   "outputs": [
    {
     "data": {
      "text/plain": [
       "3"
      ]
     },
     "execution_count": 3,
     "metadata": {},
     "output_type": "execute_result"
    }
   ],
   "source": [
    "1 + 2"
   ]
  },
  {
   "cell_type": "code",
   "execution_count": 5,
   "id": "7aaaae87-0812-431c-94e0-4da55eb8cd06",
   "metadata": {},
   "outputs": [],
   "source": [
    "ans = 1 + 2"
   ]
  },
  {
   "cell_type": "code",
   "execution_count": 6,
   "id": "a548d320-a8a1-4ecb-ab0a-07b127bc2720",
   "metadata": {},
   "outputs": [
    {
     "data": {
      "text/plain": [
       "3"
      ]
     },
     "execution_count": 6,
     "metadata": {},
     "output_type": "execute_result"
    }
   ],
   "source": [
    "ans"
   ]
  },
  {
   "cell_type": "code",
   "execution_count": 8,
   "id": "3d1dca1a-e3ef-4722-90cc-510fb7d2b248",
   "metadata": {},
   "outputs": [
    {
     "name": "stdout",
     "output_type": "stream",
     "text": [
      "Note: you may need to restart the kernel to use updated packages.\n"
     ]
    }
   ],
   "source": [
    "%pip install -q tqdm ipywidgets"
   ]
  },
  {
   "cell_type": "code",
   "execution_count": null,
   "id": "6a7514e2-e2cb-4e9e-a9fd-e4d672050acd",
   "metadata": {},
   "outputs": [],
   "source": [
    "import time\n",
    "\n",
    "from tqdm.auto import tqdm"
   ]
  },
  {
   "cell_type": "code",
   "execution_count": null,
   "id": "b0f1e622-1db7-49a8-b4b4-19a0ce74b99f",
   "metadata": {},
   "outputs": [],
   "source": [
    "a = range(0, 20)"
   ]
  },
  {
   "cell_type": "code",
   "execution_count": null,
   "id": "1583a9cc-9fb4-45b2-b6ad-f6624980bb86",
   "metadata": {},
   "outputs": [],
   "source": [
    "b = []\n",
    "\n",
    "for el in tqdm(a):\n",
    "    b.append(el ** 2)\n",
    "    time.sleep(1)\n",
    "\n",
    "print(b)"
   ]
  }
 ],
 "metadata": {
  "kernelspec": {
   "display_name": "Python 3 (ipykernel)",
   "language": "python",
   "name": "python3"
  },
  "language_info": {
   "codemirror_mode": {
    "name": "ipython",
    "version": 3
   },
   "file_extension": ".py",
   "mimetype": "text/x-python",
   "name": "python",
   "nbconvert_exporter": "python",
   "pygments_lexer": "ipython3",
   "version": "3.10.1"
  }
 },
 "nbformat": 4,
 "nbformat_minor": 5
}
